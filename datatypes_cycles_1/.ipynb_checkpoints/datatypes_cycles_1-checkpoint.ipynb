{
 "cells": [
  {
   "cell_type": "markdown",
   "metadata": {},
   "source": [
    "### Задание 1."
   ]
  },
  {
   "cell_type": "code",
   "execution_count": 20,
   "metadata": {},
   "outputs": [
    {
     "name": "stdout",
     "output_type": "stream",
     "text": [
      "Введите строку: qwertyt\n",
      "r\n",
      "Конец программы\n"
     ]
    }
   ],
   "source": [
    "word = input('Введите строку: ')\n",
    "if len(word) % 2 == 0:\n",
    "    i = len(word)//2\n",
    "    print(word[i-1],word[i])\n",
    "else:\n",
    "    i = len(word)//2\n",
    "    print(word[i])\n",
    "print('Конец программы')"
   ]
  },
  {
   "cell_type": "markdown",
   "metadata": {},
   "source": [
    "### Задание 2."
   ]
  },
  {
   "cell_type": "code",
   "execution_count": 107,
   "metadata": {},
   "outputs": [
    {
     "name": "stdout",
     "output_type": "stream",
     "text": [
      "Введите целое число: 3\n",
      "Введите целое число: 4\n",
      "Введите целое число: 23\n",
      "Введите целое число: 4\n",
      "Введите целое число: 0\n",
      "Конец программы\n"
     ]
    }
   ],
   "source": [
    "x = int(input('Введите целое число: '))\n",
    "while x != 0:\n",
    "    x = int(input('Введите целое число: '))\n",
    "print('Конец программы')"
   ]
  },
  {
   "cell_type": "markdown",
   "metadata": {},
   "source": [
    "### Задание 3."
   ]
  },
  {
   "cell_type": "code",
   "execution_count": 50,
   "metadata": {},
   "outputs": [
    {
     "name": "stdout",
     "output_type": "stream",
     "text": [
      "Идеальные пары:\n",
      "Alex и Emma\n",
      "Arthur и Kate\n",
      "John и Kira\n",
      "Peter и Liza\n",
      "Richard и Trisha\n",
      "Конец программы\n"
     ]
    }
   ],
   "source": [
    "boys = ['Peter', 'Alex', 'John', 'Arthur', 'Richard']\n",
    "girls = ['Kate', 'Liza', 'Kira', 'Emma', 'Trisha']\n",
    "match = zip(sorted(boys), sorted(girls))\n",
    "if len(sorted(boys)) == len(sorted(girls)):\n",
    "    print('Идеальные пары:')\n",
    "    for pair in match:\n",
    "        print(' и '.join(pair))\n",
    "else:\n",
    "    print('Внимание! Кто-то может остаться без пары')\n",
    "print('Конец программы')"
   ]
  },
  {
   "cell_type": "markdown",
   "metadata": {},
   "source": [
    "### Задание 4."
   ]
  },
  {
   "cell_type": "code",
   "execution_count": 104,
   "metadata": {},
   "outputs": [
    {
     "name": "stdout",
     "output_type": "stream",
     "text": [
      "Средняя температура в странах:\n",
      "Thailand - 23.9 °C\n",
      "Germany - 13.8 °C\n",
      "Russia - 3.7 °C\n",
      "Poland - 12.0 °C\n",
      "Конец программы\n"
     ]
    }
   ],
   "source": [
    "countries_temperature = [\n",
    "['Thailand', [75.2, 77, 78.8, 73.4, 68, 75.2, 77]],\n",
    "['Germany', [57.2, 55.4, 59, 59, 53.6]],\n",
    "['Russia', [35.6, 37.4, 39.2, 41, 42.8, 39.2, 35.6]],\n",
    "['Poland', [50, 50, 53.6, 57.2, 55.4, 55.4]]\n",
    "]\n",
    "total = 0.0\n",
    "average_temp = 0.0\n",
    "celcium = 0.0\n",
    "print('Средняя температура в странах:')\n",
    "for country in countries_temperature:\n",
    "    total = sum(country[1])\n",
    "    average_temp = total/len(country[1])\n",
    "    celcium = (average_temp - 32)*5/9\n",
    "    print(country[0], '-', round(celcium, 1), '°C')\n",
    "print('Конец программы')"
   ]
  },
  {
   "cell_type": "markdown",
   "metadata": {},
   "source": [
    "### Задание 5."
   ]
  },
  {
   "cell_type": "code",
   "execution_count": 187,
   "metadata": {},
   "outputs": [
    {
     "name": "stdout",
     "output_type": "stream",
     "text": [
      "Среднее количество просмотров на уникального пользователя:  145.33\n"
     ]
    }
   ],
   "source": [
    "stream = [\n",
    "    '2018-01-01,user100,150',\n",
    "    '2018-01-07,user99,205',\n",
    "    '2018-03-29,user1001,81'\n",
    "]\n",
    "views = 0\n",
    "user_list = []\n",
    "for s in stream:\n",
    "    splitted_s = s.split(',')\n",
    "    views += int(splitted_s[2])\n",
    "    if splitted_s[1] not in user_list:\n",
    "        user_list.append(splitted_s[1])\n",
    "print('Среднее количество просмотров на уникального пользователя: ', round(views/int(len(user_list)), 2))"
   ]
  },
  {
   "cell_type": "markdown",
   "metadata": {},
   "source": [
    "### Задание 6."
   ]
  },
  {
   "cell_type": "code",
   "execution_count": 209,
   "metadata": {},
   "outputs": [
    {
     "name": "stdout",
     "output_type": "stream",
     "text": [
      "Введите числа разделив пробелом: 1432 5621 9384 1039 4628 3957 5648 1432\n",
      "['1432']\n"
     ]
    }
   ],
   "source": [
    "user_input = input('Введите числа разделив пробелом: ')\n",
    "splitted_input = user_input.split()\n",
    "numbers = []\n",
    "duplicates = []\n",
    "for element in splitted_input:\n",
    "    if element in numbers:\n",
    "        duplicates.append(element)\n",
    "    else: \n",
    "        numbers.append(element)\n",
    "print(duplicates)"
   ]
  },
  {
   "cell_type": "code",
   "execution_count": 220,
   "metadata": {},
   "outputs": [
    {
     "name": "stdout",
     "output_type": "stream",
     "text": [
      "Введите числа разделив пробелом: 1432 5621 9384 1039 4628 3957 5648 1432\n",
      "['1432']\n"
     ]
    }
   ],
   "source": [
    "user_input = input('Введите числа разделив пробелом: ')\n",
    "splitted_input = user_input.split()\n",
    "duplicates = []\n",
    "for element in splitted_input:\n",
    "    if splitted_input.count(element) > 1 and element not in duplicates:\n",
    "        duplicates.append(element)\n",
    "print(duplicates)"
   ]
  }
 ],
 "metadata": {
  "kernelspec": {
   "display_name": "Python 3",
   "language": "python",
   "name": "python3"
  },
  "language_info": {
   "codemirror_mode": {
    "name": "ipython",
    "version": 3
   },
   "file_extension": ".py",
   "mimetype": "text/x-python",
   "name": "python",
   "nbconvert_exporter": "python",
   "pygments_lexer": "ipython3",
   "version": "3.8.5"
  }
 },
 "nbformat": 4,
 "nbformat_minor": 4
}
