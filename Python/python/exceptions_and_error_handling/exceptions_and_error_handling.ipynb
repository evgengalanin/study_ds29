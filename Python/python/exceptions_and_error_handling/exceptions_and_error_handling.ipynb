{
 "cells": [
  {
   "cell_type": "markdown",
   "metadata": {},
   "source": [
    "### Задание 1.\n",
    "Печатные газеты использовали свой формат дат для каждого выпуска. Для каждой газеты из списка напишите формат указанной даты для перевода в объект datetime:\n",
    "The Moscow Times - Wednesday, October 2, 2002\n",
    "The Guardian - Friday, 11.10.13\n",
    "Daily News - Thursday, 18 August 1977"
   ]
  },
  {
   "cell_type": "code",
   "execution_count": 11,
   "metadata": {},
   "outputs": [],
   "source": [
    "newspapers = {'The Moscow Times': 'Wednesday, October 2, 2002',\n",
    "         'The Guardian': 'Friday, 11.10.13',\n",
    "         'Daily News': 'Thursday, 18 August 1977'}"
   ]
  },
  {
   "cell_type": "code",
   "execution_count": 12,
   "metadata": {},
   "outputs": [],
   "source": [
    "datetime_format = {'The Moscow Times': '%A, %B %d, %Y',\n",
    "         'The Guardian': '%A, %m.%d.%y',\n",
    "         'Daily News': '%A, %d %B %Y'}"
   ]
  },
  {
   "cell_type": "code",
   "execution_count": 185,
   "metadata": {},
   "outputs": [],
   "source": [
    "from datetime import datetime, timedelta"
   ]
  },
  {
   "cell_type": "code",
   "execution_count": 186,
   "metadata": {},
   "outputs": [
    {
     "name": "stdout",
     "output_type": "stream",
     "text": [
      "The Moscow Times: \n",
      "Wednesday, October 2, 2002. \n",
      "Формат даты: %A, %B %d, %Y. \n",
      "Datetime: 2002-10-02 00:00:00 \n",
      "\n",
      "The Guardian: \n",
      "Friday, 11.10.13. \n",
      "Формат даты: %A, %m.%d.%y. \n",
      "Datetime: 2013-11-10 00:00:00 \n",
      "\n",
      "Daily News: \n",
      "Thursday, 18 August 1977. \n",
      "Формат даты: %A, %d %B %Y. \n",
      "Datetime: 1977-08-18 00:00:00 \n",
      "\n"
     ]
    }
   ],
   "source": [
    "for paper_np, date in newspapers.items():\n",
    "    for paper_df, dt_format in datetime_format.items():\n",
    "        if paper_np == paper_df: \n",
    "            print(f\"{paper_np}: \\n{date}. \\nФормат даты: {dt_format}. \\nDatetime: {datetime.strptime(date, dt_format)} \\n\")"
   ]
  },
  {
   "cell_type": "markdown",
   "metadata": {},
   "source": [
    "### Задание 2.\n",
    "Дан поток дат в формате YYYY-MM-DD, в которых встречаются некорректные значения:\n",
    "stream = [‘2018-04-02’, ‘2018-02-29’, ‘2018-19-02’]\n",
    "\n",
    "Напишите функцию, которая проверяет эти даты на корректность. Т. е. для каждой даты возвращает True (дата корректна) или False (некорректная дата)."
   ]
  },
  {
   "cell_type": "code",
   "execution_count": 187,
   "metadata": {},
   "outputs": [],
   "source": [
    "stream = ['2018-04-02',  \n",
    "          '2018-02-29',\n",
    "          '2018-19-02', \n",
    "          '2020-02-29',]"
   ]
  },
  {
   "cell_type": "code",
   "execution_count": 188,
   "metadata": {},
   "outputs": [],
   "source": [
    "required_format = '%Y-%m-%d'"
   ]
  },
  {
   "cell_type": "code",
   "execution_count": 139,
   "metadata": {},
   "outputs": [],
   "source": [
    "def date_true_false(dates):\n",
    "    for date in dates:\n",
    "        try:\n",
    "            datetime.strptime(date, required_format)\n",
    "            print(f\"{date}\\n{bool(1)}\\n\")\n",
    "        except:\n",
    "            print(f\"{date}\\n{bool(0)}\\n\")\n",
    "    return"
   ]
  },
  {
   "cell_type": "code",
   "execution_count": 140,
   "metadata": {},
   "outputs": [
    {
     "name": "stdout",
     "output_type": "stream",
     "text": [
      "2018-04-02\n",
      "True\n",
      "\n",
      "2018-02-29\n",
      "False\n",
      "\n",
      "2018-19-02\n",
      "False\n",
      "\n",
      "2020-02-29\n",
      "True\n",
      "\n"
     ]
    }
   ],
   "source": [
    "date_true_false(stream)"
   ]
  },
  {
   "cell_type": "markdown",
   "metadata": {},
   "source": [
    "### Задание 3.\n",
    "Напишите функцию date_range, которая возвращает список дат за период от start_date до end_date. Даты должны вводиться в формате YYYY-MM-DD. В случае неверного формата или при start_date > end_date должен возвращаться пустой список."
   ]
  },
  {
   "cell_type": "code",
   "execution_count": 230,
   "metadata": {},
   "outputs": [],
   "source": [
    "def date_delta_list():\n",
    "    \n",
    "    start_date = input('Введите дату начала периода: YYYY-MM-DD ')\n",
    "    end_date = input('Введите дату конца периода: ')\n",
    "    \n",
    "    test = []\n",
    "    \n",
    "    try:\n",
    "        start = datetime.strptime(start_date, '%Y-%m-%d')\n",
    "        end = datetime.strptime(end_date, '%Y-%m-%d')\n",
    "        \n",
    "        end >= start\n",
    "        \n",
    "        for x in range(0, ((end - start).days + 1)): # + 1 если с end_date включительно\n",
    "            test.append((start + timedelta(days = x)).strftime('%Y-%m-%d'))\n",
    "        print(test)\n",
    "        \n",
    "    except:\n",
    "        print(test)"
   ]
  },
  {
   "cell_type": "code",
   "execution_count": 233,
   "metadata": {},
   "outputs": [
    {
     "name": "stdout",
     "output_type": "stream",
     "text": [
      "Введите дату начала периода: YYYY-MM-DD 2021-10-5\n",
      "Введите дату конца периода: 2021-10-1\n",
      "[]\n"
     ]
    }
   ],
   "source": [
    "date_delta_list()"
   ]
  },
  {
   "cell_type": "markdown",
   "metadata": {},
   "source": [
    "### Задание 4 (бонусное).\n",
    "Ваш коллега прислал код функции:\n",
    "\n",
    "DEFAULT_USER_COUNT = 3\n",
    "\n",
    "def delete_and_return_last_user(region, default_list=[‘A100’, ‘A101’, ‘A102’]):\n",
    "\n",
    "\"\"\"\n",
    "Удаляет из списка default_list последнего пользователя\n",
    "и возвращает ID нового последнего пользователя.\n",
    "\"\"\"\n",
    "\n",
    "element_to_delete = default_list[-1]\n",
    "default_list.remove(element_to_delete)\n",
    "\n",
    "1\n",
    "return default_list[DEFAULT_USER_COUNT-2]\n",
    "\n",
    "При однократном вызове этой функции все работает корректно:\n",
    "delete_and_return_last_user(1)\n",
    "‘A101’\n",
    "\n",
    "Однако, при повторном вызове получается ошибка IndexError: list index out of range.\n",
    "\n",
    "Задание:\n",
    "\n",
    "Что значит ошибка list index out of range?\n",
    "Почему при первом запуске функция работает корректно, а при втором - нет?\n"
   ]
  },
  {
   "cell_type": "code",
   "execution_count": 290,
   "metadata": {},
   "outputs": [],
   "source": [
    "DEFAULT_USER_COUNT = 3\n",
    "\n",
    "def delete_and_return_last_user(region, default_list = ['A100', 'A101', 'A102']):\n",
    "    \n",
    "    print(default_list)\n",
    "    \n",
    "    element_to_delete = default_list[-1]\n",
    "    \n",
    "    default_list.remove(element_to_delete)\n",
    "    \n",
    "    print(default_list)\n",
    "    \n",
    "    return default_list[DEFAULT_USER_COUNT - 2]"
   ]
  },
  {
   "cell_type": "code",
   "execution_count": null,
   "metadata": {},
   "outputs": [],
   "source": []
  },
  {
   "cell_type": "code",
   "execution_count": 292,
   "metadata": {},
   "outputs": [
    {
     "name": "stdout",
     "output_type": "stream",
     "text": [
      "['A100', 'A101']\n",
      "['A100']\n"
     ]
    },
    {
     "ename": "IndexError",
     "evalue": "list index out of range",
     "output_type": "error",
     "traceback": [
      "\u001b[0;31m---------------------------------------------------------------------------\u001b[0m",
      "\u001b[0;31mIndexError\u001b[0m                                Traceback (most recent call last)",
      "\u001b[0;32m<ipython-input-292-bfb6c4f8c48e>\u001b[0m in \u001b[0;36m<module>\u001b[0;34m\u001b[0m\n\u001b[0;32m----> 1\u001b[0;31m \u001b[0mdelete_and_return_last_user\u001b[0m\u001b[0;34m(\u001b[0m\u001b[0;36m1\u001b[0m\u001b[0;34m)\u001b[0m\u001b[0;34m\u001b[0m\u001b[0;34m\u001b[0m\u001b[0m\n\u001b[0m",
      "\u001b[0;32m<ipython-input-290-0a1b31a23843>\u001b[0m in \u001b[0;36mdelete_and_return_last_user\u001b[0;34m(region, default_list)\u001b[0m\n\u001b[1;32m     11\u001b[0m     \u001b[0mprint\u001b[0m\u001b[0;34m(\u001b[0m\u001b[0mdefault_list\u001b[0m\u001b[0;34m)\u001b[0m\u001b[0;34m\u001b[0m\u001b[0;34m\u001b[0m\u001b[0m\n\u001b[1;32m     12\u001b[0m \u001b[0;34m\u001b[0m\u001b[0m\n\u001b[0;32m---> 13\u001b[0;31m     \u001b[0;32mreturn\u001b[0m \u001b[0mdefault_list\u001b[0m\u001b[0;34m[\u001b[0m\u001b[0mDEFAULT_USER_COUNT\u001b[0m \u001b[0;34m-\u001b[0m \u001b[0;36m2\u001b[0m\u001b[0;34m]\u001b[0m\u001b[0;34m\u001b[0m\u001b[0;34m\u001b[0m\u001b[0m\n\u001b[0m",
      "\u001b[0;31mIndexError\u001b[0m: list index out of range"
     ]
    }
   ],
   "source": [
    "delete_and_return_last_user(1)"
   ]
  },
  {
   "cell_type": "markdown",
   "metadata": {},
   "source": [
    "Ошибка list index out of range говорит нам о том, что элемент с указанным индексом отсутствует в заданном списке"
   ]
  },
  {
   "cell_type": "markdown",
   "metadata": {},
   "source": [
    "В данном примере функция delete_and_return_last_user принимает в качестве одного из аргументов список default_list, включающий в себя три элемента.\n",
    "\n",
    "Она удаляет последний элемент из этого списка и возвращает элемент уже изменённого списка с индексом [DEFAULT_USER_COUNT - 2], или [1], ввиду DEFAULT_USER_COUNT = 3.\n",
    "\n",
    "Так как, в ходе повторного вызова, функция принимает в качестве аргумента уже изменённый список, то операция удаления последнего элемента из этого списка, сокращает число элементов списка до одного.\n",
    "\n",
    "В результате, попытка обратиться к элементу списка default_list с индексом [1], приводит к возникновению ошибки IndexError с комментарием list index out of range, что говорит об отсутствии элемента с указанным индексом в заданном списке."
   ]
  }
 ],
 "metadata": {
  "kernelspec": {
   "display_name": "Python 3",
   "language": "python",
   "name": "python3"
  },
  "language_info": {
   "codemirror_mode": {
    "name": "ipython",
    "version": 3
   },
   "file_extension": ".py",
   "mimetype": "text/x-python",
   "name": "python",
   "nbconvert_exporter": "python",
   "pygments_lexer": "ipython3",
   "version": "3.8.5"
  }
 },
 "nbformat": 4,
 "nbformat_minor": 4
}
