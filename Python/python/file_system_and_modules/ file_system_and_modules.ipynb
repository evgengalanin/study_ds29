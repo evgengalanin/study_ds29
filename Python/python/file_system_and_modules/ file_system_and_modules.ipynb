{
 "cells": [
  {
   "cell_type": "markdown",
   "metadata": {},
   "source": [
    "### Задание 1.\n",
    "Переведите содержимое файла purchase_log.txt в словарь purchases вида:\n",
    "{‘1840e0b9d4’: ‘Продукты’, …}"
   ]
  },
  {
   "cell_type": "code",
   "execution_count": null,
   "metadata": {},
   "outputs": [],
   "source": [
    "with open('purchase_log.txt','r') as purchase_log:\n",
    "    line_count = 0\n",
    "    for line in purchase_log:\n",
    "        line_count += 1\n",
    "\n",
    "print(line_count)"
   ]
  },
  {
   "cell_type": "code",
   "execution_count": null,
   "metadata": {},
   "outputs": [],
   "source": [
    "import json"
   ]
  },
  {
   "cell_type": "code",
   "execution_count": null,
   "metadata": {},
   "outputs": [],
   "source": [
    "with open('purchase_log.txt','r') as purchase_log:\n",
    "    \n",
    "    purchases = {}\n",
    "    purchase_log.readline()\n",
    "    \n",
    "    for line in purchase_log:\n",
    "        dict_ = json.loads(line.strip())\n",
    "        purchases[dict_['user_id']] = dict_['category']\n",
    "    \n",
    "    "
   ]
  },
  {
   "cell_type": "code",
   "execution_count": null,
   "metadata": {},
   "outputs": [],
   "source": [
    "purchases"
   ]
  },
  {
   "cell_type": "code",
   "execution_count": null,
   "metadata": {},
   "outputs": [],
   "source": [
    "\"\"\"\n",
    "for i, line in enumerate(purchase_log):\n",
    "        if i > 0: # Чтобы не брать первый элемент\n",
    "            dicts.append(json.loads(line.strip()))\n",
    "            for dict_ in dicts:\n",
    "                purchases.setdefault(list(dict_.values())[0], list(dict_.values())[1])\n",
    "                if i > 1000: # Пришлось ограничиться, Юпитер задумался очень надолго\n",
    "                    break\n",
    "\"\"\""
   ]
  },
  {
   "cell_type": "markdown",
   "metadata": {},
   "source": [
    "### Задание 2.\n",
    "Для каждого user_id в файле visit_log.csv определите третий столбец с категорией покупки\n",
    "\n",
    "(если покупка была, сам файл visit_log.csv изменять не надо)\n",
    "\n",
    "Запишите в файл funnel.csv визиты из файла visit_log.csv, в которых были покупки с указанием категории.\n"
   ]
  },
  {
   "cell_type": "code",
   "execution_count": null,
   "metadata": {},
   "outputs": [],
   "source": [
    "with open('visit_log.csv', 'r') as visit_log:\n",
    "    with open('funnel.csv', 'w') as funnel:\n",
    "        \n",
    "        for i, line in enumerate(visit_log):\n",
    "            #if i < 100:\n",
    "            \n",
    "            another_line = line.strip().split(',')\n",
    "            \n",
    "            if another_line[0] in purchases:\n",
    "                        \n",
    "                        test = []\n",
    "                        \n",
    "                        test.append(another_line[0])\n",
    "                        test.append(another_line[1])\n",
    "                        test.append(purchases[another_line[0]])\n",
    "                        \n",
    "                        funnel.write(json.dumps(test) + '\\n')\n",
    "                        \n",
    "                        "
   ]
  },
  {
   "cell_type": "markdown",
   "metadata": {},
   "source": [
    "### Задание 2*\n",
    "Попробовал написать код с построчным чтением одновременно двух файлов."
   ]
  },
  {
   "cell_type": "code",
   "execution_count": null,
   "metadata": {},
   "outputs": [],
   "source": [
    "with open('visit_log.csv', 'r') as visit_log:\n",
    "    with open('purchase_log.txt','r') as purchase_log:\n",
    "        with open('funnel.csv', 'w') as funnel:\n",
    "            \n",
    "            for i, line in enumerate(visit_log):\n",
    "                if i < 10000:\n",
    "                    \n",
    "                    another_line = line.strip().split(',')\n",
    "                    \n",
    "                    for j, dict_ in enumerate(purchase_log):\n",
    "                        if j < 10000:\n",
    "                            \n",
    "                            purchases = {}\n",
    "                            d = json.loads(dict_.strip())\n",
    "                            purchases[d['user_id']] = d['category']\n",
    "                            \n",
    "                            if another_line[0] in purchases:\n",
    "                                \n",
    "                                test = []\n",
    "                                \n",
    "                                test.append(another_line[0])\n",
    "                                test.append(another_line[1])\n",
    "                                test.append(purchases[another_line[0]])\n",
    "                        \n",
    "                                funnel.write(json.dumps(test) + '\\n')\n",
    "                                \n",
    "                                break\n",
    "                            \n",
    "                    purchase_log.seek(0)"
   ]
  }
 ],
 "metadata": {
  "kernelspec": {
   "display_name": "Python 3",
   "language": "python",
   "name": "python3"
  },
  "language_info": {
   "codemirror_mode": {
    "name": "ipython",
    "version": 3
   },
   "file_extension": ".py",
   "mimetype": "text/x-python",
   "name": "python",
   "nbconvert_exporter": "python",
   "pygments_lexer": "ipython3",
   "version": "3.8.5"
  }
 },
 "nbformat": 4,
 "nbformat_minor": 4
}
