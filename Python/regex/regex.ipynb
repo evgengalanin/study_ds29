{
 "cells": [
  {
   "cell_type": "markdown",
   "metadata": {},
   "source": [
    "### Задание 1\n",
    "Напишите функцию, которая принимает на вход строку и проверяет является ли она валидным транспортным номером (1 буква, 3 цифры, 2 буквы, 2-3 цифры). Обратите внимание, что не все буквы кириллического алфавита используются в транспортных номерах.\n",
    "\n",
    "Если номер валиден, то функция должна возвращать отдельно номер и регион.\n",
    "\n"
   ]
  },
  {
   "cell_type": "code",
   "execution_count": 2,
   "metadata": {},
   "outputs": [],
   "source": [
    "import re"
   ]
  },
  {
   "cell_type": "code",
   "execution_count": 22,
   "metadata": {},
   "outputs": [],
   "source": [
    "def check_gov_num():\n",
    "    user_input = input('Введите гос номер: ')\n",
    "    regex_gov_num = r'(([АВЕКМНОРСТУХABEKMHOPCTYX]{1})(\\d{3})([АВЕКМНОРСТУХABEKMHOPCTYX]{2}))'\n",
    "    regex_region = r'((?<=([АВЕКМНОРСТУХABEKMHOPCTYX]{2}))\\d{2,3})'\n",
    "    result_gov_num = re.search(regex_gov_num, user_input)\n",
    "    result_region = re.search(regex_region, user_input)\n",
    "    print(f'Номер {result_gov_num.group(0)} валиден. Регион: {result_region.group()}' if result_gov_num else 'Номер не валиден')"
   ]
  },
  {
   "cell_type": "code",
   "execution_count": 24,
   "metadata": {
    "scrolled": true
   },
   "outputs": [
    {
     "name": "stdout",
     "output_type": "stream",
     "text": [
      "Введите гос номер: A222BC96\n",
      "Номер A222BC валиден. Регион: 96\n"
     ]
    }
   ],
   "source": [
    "check_gov_num()"
   ]
  },
  {
   "cell_type": "markdown",
   "metadata": {},
   "source": [
    "### Задание 2\n",
    "Напишите функцию, которая будет удалять все последовательные повторы слов из заданной строки при помощи регулярных выражений."
   ]
  },
  {
   "cell_type": "code",
   "execution_count": 3,
   "metadata": {},
   "outputs": [
    {
     "name": "stdout",
     "output_type": "stream",
     "text": [
      "Напишите функцию которая будет удалять все последовательные повторы слов из заданной строки при помощи регулярных выражений\n"
     ]
    }
   ],
   "source": [
    "s = \"Напишите функцию функцию, которая будет будет будет будет удалять все все все все последовательные повторы слов из из из из заданной строки строки при помощи регулярных выражений.\"\n",
    "print(re.sub(r'\\b([^\\W\\d_]+)(\\s+\\1)+\\b', r'\\1', re.sub(r'\\W+', ' ', s).strip(), flags=re.I))"
   ]
  },
  {
   "cell_type": "code",
   "execution_count": 6,
   "metadata": {},
   "outputs": [],
   "source": [
    "def remove_repeats(string):\n",
    "    return re.sub(r\"(\\w+)(\\s\\1)+\", r\"\\1\", string)"
   ]
  },
  {
   "cell_type": "code",
   "execution_count": 7,
   "metadata": {},
   "outputs": [
    {
     "data": {
      "text/plain": [
       "'Напишите функцию, которая будет удалять все последовательные повторы слов из заданной строки при помощи регулярных выражений.'"
      ]
     },
     "execution_count": 7,
     "metadata": {},
     "output_type": "execute_result"
    }
   ],
   "source": [
    "remove_repeats(s)"
   ]
  },
  {
   "cell_type": "markdown",
   "metadata": {},
   "source": [
    "### Задание 3\n",
    "\n",
    "Напишите функцию, которая будет возвращать акроним по переданной в нее строке со словами."
   ]
  },
  {
   "cell_type": "code",
   "execution_count": 430,
   "metadata": {},
   "outputs": [],
   "source": [
    "def return_acronym(text):\n",
    "    return ''.join(re.findall(r'\\b\\w', text)).upper()"
   ]
  },
  {
   "cell_type": "code",
   "execution_count": 432,
   "metadata": {},
   "outputs": [
    {
     "data": {
      "text/plain": [
       "'NFC'"
      ]
     },
     "execution_count": 432,
     "metadata": {},
     "output_type": "execute_result"
    }
   ],
   "source": [
    "return_acronym('Near Field Communication')"
   ]
  },
  {
   "cell_type": "code",
   "execution_count": 9,
   "metadata": {},
   "outputs": [],
   "source": [
    "def acronym(word):\n",
    "    return re.sub(r\"(\\w)\\w+\\s?\", r\"\\1\", word).upper()"
   ]
  },
  {
   "cell_type": "code",
   "execution_count": 10,
   "metadata": {},
   "outputs": [
    {
     "data": {
      "text/plain": [
       "'NFC'"
      ]
     },
     "execution_count": 10,
     "metadata": {},
     "output_type": "execute_result"
    }
   ],
   "source": [
    "acronym('Near Field Communication')"
   ]
  },
  {
   "cell_type": "markdown",
   "metadata": {},
   "source": [
    "### Задание 4\n",
    "Напишите функцию, которая будет принимать на вход список email-адресов и выводить их распределение по доменным зонам."
   ]
  },
  {
   "cell_type": "code",
   "execution_count": 117,
   "metadata": {},
   "outputs": [],
   "source": [
    "emails = ['test@gmail.com', 'xyz@test.in', 'test@ya.ru', 'xyz@mail.ru', 'xyz@ya.ru', 'xyz@gmail.com']"
   ]
  },
  {
   "cell_type": "code",
   "execution_count": 151,
   "metadata": {},
   "outputs": [],
   "source": [
    "def sort_by_domain(emails):\n",
    "    \n",
    "    domain_count = {}\n",
    "    \n",
    "    for mail in emails:\n",
    "        result = re.search(r'((?<=@)\\w+\\.\\w+)', mail)\n",
    "        \n",
    "        domain_count.setdefault(result.group(0), 0)\n",
    "        domain_count[result.group(0)] += 1\n",
    "        \n",
    "    for el in domain_count:\n",
    "        print(f'{el}: {domain_count[el]}')"
   ]
  },
  {
   "cell_type": "code",
   "execution_count": 152,
   "metadata": {},
   "outputs": [
    {
     "name": "stdout",
     "output_type": "stream",
     "text": [
      "gmail.com: 2\n",
      "test.in: 1\n",
      "ya.ru: 2\n",
      "mail.ru: 1\n"
     ]
    }
   ],
   "source": [
    "sort_by_domain(emails)"
   ]
  },
  {
   "cell_type": "markdown",
   "metadata": {},
   "source": [
    "### Задание 5\n",
    "Напишите функцию, которая будет подсчитывать сколько слов начинается на гласные, а сколько на согласные буквы в тексте (текст может быть написан как с использованием букв кириллицы, так и латиницы)."
   ]
  },
  {
   "cell_type": "code",
   "execution_count": 212,
   "metadata": {},
   "outputs": [],
   "source": [
    "some_text = 'Эталонной реализацией Python является интерпретатор CPython, поддерживающий большинство активно используемых платформ. Он распространяется под свободной лицензией Python Software Foundation License, позволяющей использовать его без ограничений в любых приложениях, включая проприетарные.'"
   ]
  },
  {
   "cell_type": "code",
   "execution_count": 757,
   "metadata": {},
   "outputs": [],
   "source": [
    "def count_vowels_consonants(text):\n",
    "    \n",
    "    vowels = re.findall(r'(?i)\\b(?=[аоуэиыеёяюaeiouy])[а-яa-z]', text)\n",
    "    consonants = re.findall(r'(?i)\\b(?=[^аоуэиыеёяюaeiouy])[а-яa-z]', text)\n",
    "    \n",
    "    print(f'Слов на гласные буквы: {len(vowels)}')\n",
    "    print(f'Слов на согласные буквы: {len(consonants)}')"
   ]
  },
  {
   "cell_type": "code",
   "execution_count": 758,
   "metadata": {},
   "outputs": [
    {
     "name": "stdout",
     "output_type": "stream",
     "text": [
      "Слов на гласные буквы: 9\n",
      "Слов на согласные буквы: 21\n"
     ]
    }
   ],
   "source": [
    "count_vowels_consonants(some_text)"
   ]
  },
  {
   "cell_type": "markdown",
   "metadata": {},
   "source": [
    "### Задание 6\n",
    "Напишите функцию, которая будет проверять номер сотового телефона на валидность (только для российского формата), если он валиден, то переводить его в формат:\n",
    "+7-xxx-xxx-xx-xx"
   ]
  },
  {
   "cell_type": "code",
   "execution_count": 754,
   "metadata": {},
   "outputs": [],
   "source": [
    "phone_numbers = ['7(955) 555-55-55',\n",
    "                 '+7-921698 4232',\n",
    "                 '+7 955 555-55-55',\n",
    "                 '+7 955 555 55 55',\n",
    "                 '8(955)555-55-55',\n",
    "                 '89217773399',\n",
    "                 '+6 921 888 33 00',\n",
    "                 '423-555-55 5555',\n",
    "                 '123-456-789']"
   ]
  },
  {
   "cell_type": "code",
   "execution_count": 761,
   "metadata": {},
   "outputs": [],
   "source": [
    "def check_and_change_phone_format(numbers):\n",
    "    \n",
    "    regex_valid_number = r'^(7|8|\\+7)[- _()]*(\\d{3})[- _()]*(\\d{3})[- _]*(\\d{2})[- _]*(\\d{2})'\n",
    "    \n",
    "    for number in numbers:\n",
    "        \n",
    "        valid_number = re.findall(regex_valid_number, number)\n",
    "        \n",
    "        format_number = re.sub(regex_valid_number, r'+7-\\2-\\3-\\4-\\5', number)\n",
    "        \n",
    "        print(format_number if valid_number else 'Номер не валиден.')"
   ]
  },
  {
   "cell_type": "code",
   "execution_count": 762,
   "metadata": {},
   "outputs": [
    {
     "name": "stdout",
     "output_type": "stream",
     "text": [
      "+7-955-555-55-55\n",
      "+7-921-698-42-32\n",
      "+7-955-555-55-55\n",
      "+7-955-555-55-55\n",
      "+7-955-555-55-55\n",
      "+7-921-777-33-99\n",
      "Номер не валиден.\n",
      "Номер не валиден.\n",
      "Номер не валиден.\n"
     ]
    }
   ],
   "source": [
    "check_and_change_phone_format(phone_numbers)"
   ]
  }
 ],
 "metadata": {
  "kernelspec": {
   "display_name": "Python 3",
   "language": "python",
   "name": "python3"
  },
  "language_info": {
   "codemirror_mode": {
    "name": "ipython",
    "version": 3
   },
   "file_extension": ".py",
   "mimetype": "text/x-python",
   "name": "python",
   "nbconvert_exporter": "python",
   "pygments_lexer": "ipython3",
   "version": "3.8.5"
  }
 },
 "nbformat": 4,
 "nbformat_minor": 4
}
