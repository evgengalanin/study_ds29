{
 "cells": [
  {
   "cell_type": "markdown",
   "metadata": {},
   "source": [
    "### Задание 1."
   ]
  },
  {
   "cell_type": "code",
   "execution_count": 234,
   "metadata": {},
   "outputs": [
    {
     "name": "stdout",
     "output_type": "stream",
     "text": [
      "{98, 35, 15, 213, 54, 119}\n"
     ]
    }
   ],
   "source": [
    "ids = {\n",
    "       'user1': [213, 213, 213, 15, 213], \n",
    "       'user2': [54, 54, 119, 119, 119], \n",
    "       'user3': [213, 98, 98, 35]\n",
    "      }\n",
    "\n",
    "all_tags = []\n",
    "\n",
    "for geo_tags in ids.values():\n",
    "    all_tags += geo_tags\n",
    "    \n",
    "print(set(all_tags))"
   ]
  },
  {
   "cell_type": "markdown",
   "metadata": {},
   "source": [
    "### Задание 2."
   ]
  },
  {
   "cell_type": "code",
   "execution_count": 235,
   "metadata": {},
   "outputs": [
    {
     "name": "stdout",
     "output_type": "stream",
     "text": [
      "Поисковых запросов, содержащих 3 слов(а): 57.14 %\n",
      "Поисковых запросов, содержащих 2 слов(а): 42.86 %\n"
     ]
    }
   ],
   "source": [
    "queries = [\n",
    "    'смотреть сериалы онлайн',\n",
    "    'новости спорта',\n",
    "    'афиша кино',\n",
    "    'курс доллара',\n",
    "    'сериалы этим летом',\n",
    "    'курс по питону',\n",
    "    'сериалы про спорт',\n",
    "]\n",
    "\n",
    "frag_queries = [lines.split(\" \") for lines in queries]\n",
    "\n",
    "words = {}\n",
    "\n",
    "for frag in frag_queries:\n",
    "    words.setdefault(len(frag), 0)\n",
    "    words[len(frag)] += 1\n",
    "    \n",
    "for key, value in words.items():\n",
    "    print(f'Поисковых запросов, содержащих {key} слов(а): {round(((value/sum(words.values())) * 100), 2)} %')"
   ]
  },
  {
   "cell_type": "markdown",
   "metadata": {},
   "source": [
    "### Задание 3.\n"
   ]
  },
  {
   "cell_type": "code",
   "execution_count": 236,
   "metadata": {},
   "outputs": [
    {
     "name": "stdout",
     "output_type": "stream",
     "text": [
      "{'adwords': {'ROI': 2.94, 'cost': 34, 'revenue': 35},\n",
      " 'facebook': {'ROI': -6.36, 'cost': 110, 'revenue': 103},\n",
      " 'twitter': {'ROI': -54.17, 'cost': 24, 'revenue': 11},\n",
      " 'vk': {'ROI': 5.1, 'cost': 98, 'revenue': 103},\n",
      " 'yandex': {'ROI': 16.99, 'cost': 153, 'revenue': 179}}\n"
     ]
    }
   ],
   "source": [
    "results = {\n",
    "    'vk': {'revenue': 103, 'cost': 98},\n",
    "    'yandex': {'revenue': 179, 'cost': 153},\n",
    "    'facebook': {'revenue': 103, 'cost': 110},\n",
    "    'adwords': {'revenue': 35, 'cost': 34},\n",
    "    'twitter': {'revenue': 11, 'cost': 24},\n",
    "}\n",
    "\n",
    "for i in results.values():\n",
    "    i.setdefault('ROI', round(((i['revenue'] / i['cost'] - 1) * 100), 2))\n",
    "    \n",
    "from pprint import pprint\n",
    "pprint(results)"
   ]
  },
  {
   "cell_type": "markdown",
   "metadata": {},
   "source": [
    "### Задание 4."
   ]
  },
  {
   "cell_type": "code",
   "execution_count": 237,
   "metadata": {},
   "outputs": [
    {
     "name": "stdout",
     "output_type": "stream",
     "text": [
      "Максимальный объём продаж на рекламном канале: vk\n"
     ]
    }
   ],
   "source": [
    "stats = {'facebook': 55, 'yandex': 115, 'vk': 120, 'google': 99, 'email': 42, 'ok': 98}\n",
    "\n",
    "#sorted(stats.items(), key = lambda x: x[1], reverse = True)[0]\n",
    "\n",
    "max_elem = None\n",
    "\n",
    "for key, value in stats.items():\n",
    "    if not max_elem or value > max_elem[1]:\n",
    "        max_elem = (key, value)\n",
    "        \n",
    "print('Максимальный объём продаж на рекламном канале:', max_elem[0])"
   ]
  },
  {
   "cell_type": "markdown",
   "metadata": {},
   "source": [
    "### Задание 5."
   ]
  },
  {
   "cell_type": "code",
   "execution_count": 238,
   "metadata": {},
   "outputs": [
    {
     "name": "stdout",
     "output_type": "stream",
     "text": [
      "{'2018-01-01': {'yandex': {'cpc': 100}}}\n"
     ]
    }
   ],
   "source": [
    "my_list = ['2018-01-01', 'yandex', 'cpc', 100]\n",
    "\n",
    "current_dict = {my_list[-2] : my_list[-1]}\n",
    "\n",
    "for i in range(len(my_list)-3,-1,-1):\n",
    "    my_dict = {my_list[i] : current_dict}\n",
    "    current_dict = my_dict\n",
    "\n",
    "print(my_dict)"
   ]
  },
  {
   "cell_type": "markdown",
   "metadata": {},
   "source": [
    "### Задание 6."
   ]
  },
  {
   "cell_type": "code",
   "execution_count": 28,
   "metadata": {},
   "outputs": [],
   "source": [
    "cook_book = {\n",
    "  'салат': [\n",
    "     {'ingridient_name': 'сыр', 'quantity': 50, 'measure': 'гр'},\n",
    "     {'ingridient_name': 'томаты', 'quantity': 2, 'measure': 'шт'},\n",
    "     {'ingridient_name': 'огурцы', 'quantity': 20, 'measure': 'гр'},\n",
    "     {'ingridient_name': 'маслины', 'quantity': 10, 'measure': 'гр'},\n",
    "     {'ingridient_name': 'оливковое масло', 'quantity': 20, 'measure': 'мл'},\n",
    "     {'ingridient_name': 'салат', 'quantity': 10, 'measure': 'гр'},\n",
    "     {'ingridient_name': 'перец', 'quantity': 20, 'measure': 'гр'}\n",
    "    ],\n",
    "  'пицца': [\n",
    "     {'ingridient_name': 'сыр', 'quantity': 20, 'measure': 'гр'},\n",
    "     {'ingridient_name': 'колбаса', 'quantity': 30, 'measure': 'гр'},\n",
    "     {'ingridient_name': 'бекон', 'quantity': 30, 'measure': 'гр'},\n",
    "     {'ingridient_name': 'оливки', 'quantity': 10, 'measure': 'гр'},\n",
    "     {'ingridient_name': 'томаты', 'quantity': 20, 'measure': 'гр'},\n",
    "     {'ingridient_name': 'тесто', 'quantity': 100, 'measure': 'гр'},   \n",
    "    ],\n",
    "  'лимонад': [\n",
    "     {'ingridient_name': 'лимон', 'quantity': 1, 'measure': 'шт'},\n",
    "     {'ingridient_name': 'вода', 'quantity': 200, 'measure': 'мл'},\n",
    "     {'ingridient_name': 'сахар', 'quantity': 10, 'measure': 'гр'},\n",
    "     {'ingridient_name': 'лайм', 'quantity': 20, 'measure': 'гр'},    \n",
    "    ]\n",
    "}"
   ]
  },
  {
   "cell_type": "code",
   "execution_count": 31,
   "metadata": {},
   "outputs": [],
   "source": [
    "from pprint import pprint"
   ]
  },
  {
   "cell_type": "code",
   "execution_count": 36,
   "metadata": {},
   "outputs": [
    {
     "name": "stdout",
     "output_type": "stream",
     "text": [
      "[{('маслины', 'гр'): 10,\n",
      "  ('огурцы', 'гр'): 20,\n",
      "  ('оливковое масло', 'мл'): 20,\n",
      "  ('перец', 'гр'): 20,\n",
      "  ('салат', 'гр'): 10,\n",
      "  ('сыр', 'гр'): 50,\n",
      "  ('томаты', 'шт'): 2},\n",
      " {('бекон', 'гр'): 30,\n",
      "  ('колбаса', 'гр'): 30,\n",
      "  ('оливки', 'гр'): 10,\n",
      "  ('сыр', 'гр'): 20,\n",
      "  ('тесто', 'гр'): 100,\n",
      "  ('томаты', 'гр'): 20},\n",
      " {('вода', 'мл'): 200,\n",
      "  ('лайм', 'гр'): 20,\n",
      "  ('лимон', 'шт'): 1,\n",
      "  ('сахар', 'гр'): 10}]\n"
     ]
    }
   ],
   "source": [
    "total = []\n",
    "d = {}\n",
    "for key, value in cook_book.items():\n",
    "    for ingr in value:\n",
    "        d.setdefault((list(ingr.values())[0],list(ingr.values())[2]),list(ingr.values())[1])\n",
    "    total.append(d)\n",
    "    d = {}\n",
    "    \n",
    "pprint(total)"
   ]
  },
  {
   "cell_type": "code",
   "execution_count": 37,
   "metadata": {},
   "outputs": [
    {
     "name": "stdout",
     "output_type": "stream",
     "text": [
      "{('бекон', 'гр'): 30,\n",
      " ('вода', 'мл'): 200,\n",
      " ('колбаса', 'гр'): 30,\n",
      " ('лайм', 'гр'): 20,\n",
      " ('лимон', 'шт'): 1,\n",
      " ('маслины', 'гр'): 10,\n",
      " ('огурцы', 'гр'): 20,\n",
      " ('оливки', 'гр'): 10,\n",
      " ('оливковое масло', 'мл'): 20,\n",
      " ('перец', 'гр'): 20,\n",
      " ('салат', 'гр'): 10,\n",
      " ('сахар', 'гр'): 10,\n",
      " ('сыр', 'гр'): 70,\n",
      " ('тесто', 'гр'): 100,\n",
      " ('томаты', 'гр'): 20,\n",
      " ('томаты', 'шт'): 2}\n"
     ]
    }
   ],
   "source": [
    "final = {}\n",
    "for d in total:\n",
    "    for k in d.keys():\n",
    "        final[k] = final.get(k,0) + d[k]\n",
    "pprint(final) "
   ]
  },
  {
   "cell_type": "code",
   "execution_count": 38,
   "metadata": {},
   "outputs": [
    {
     "name": "stdout",
     "output_type": "stream",
     "text": [
      "Введите количество порций: \n",
      "3\n",
      "Результат: \n",
      "\n",
      "Сыр: 210 гр\n",
      "Томаты: 6 шт\n",
      "Огурцы: 60 гр\n",
      "Маслины: 30 гр\n",
      "Оливковое масло: 60 мл\n",
      "Салат: 30 гр\n",
      "Перец: 60 гр\n",
      "Колбаса: 90 гр\n",
      "Бекон: 90 гр\n",
      "Оливки: 30 гр\n",
      "Томаты: 60 гр\n",
      "Тесто: 300 гр\n",
      "Лимон: 3 шт\n",
      "Вода: 600 мл\n",
      "Сахар: 30 гр\n",
      "Лайм: 60 гр\n"
     ]
    }
   ],
   "source": [
    "serving = int(input('Введите количество порций: \\n'))\n",
    "print('Результат: \\n')\n",
    "for key, value in final.items():\n",
    "    print(f\"{key[0].capitalize()}: {value * serving} {key[1]}\")"
   ]
  }
 ],
 "metadata": {
  "kernelspec": {
   "display_name": "Python 3",
   "language": "python",
   "name": "python3"
  },
  "language_info": {
   "codemirror_mode": {
    "name": "ipython",
    "version": 3
   },
   "file_extension": ".py",
   "mimetype": "text/x-python",
   "name": "python",
   "nbconvert_exporter": "python",
   "pygments_lexer": "ipython3",
   "version": "3.8.5"
  }
 },
 "nbformat": 4,
 "nbformat_minor": 4
}
