{
 "cells": [
  {
   "cell_type": "code",
   "execution_count": 4,
   "metadata": {},
   "outputs": [],
   "source": [
    "documents = [\n",
    " {'type': 'passport', 'number': '2207 876234', 'name': 'Василий Гупкин'},\n",
    " {'type': 'invoice', 'number': '11-2', 'name': 'Геннадий Покемонов'},\n",
    " {'type': 'insurance', 'number': '10006', 'name': 'Аристарх Павлов'}\n",
    "]\n",
    "\n",
    "directories = {\n",
    " '1': ['2207 876234', '11-2'],\n",
    " '2': ['10006'],\n",
    " '3': []\n",
    "}"
   ]
  },
  {
   "cell_type": "markdown",
   "metadata": {},
   "source": [
    "### Пункт 1."
   ]
  },
  {
   "cell_type": "code",
   "execution_count": 5,
   "metadata": {},
   "outputs": [
    {
     "name": "stdout",
     "output_type": "stream",
     "text": [
      "Введите номер документа: \n",
      "Документ не найден в базе\n"
     ]
    }
   ],
   "source": [
    "def name_by_number():\n",
    "    \n",
    "    user_input = input('Введите номер документа: ')\n",
    "    \n",
    "    for docs in documents:\n",
    "        if user_input == docs['number']:\n",
    "            print(docs['name'])\n",
    "            return\n",
    "\n",
    "    else:\n",
    "        print('Документ не найден в базе')\n",
    "        return\n",
    "        \n",
    "name_by_number()"
   ]
  },
  {
   "cell_type": "markdown",
   "metadata": {},
   "source": [
    "### Пункт 2."
   ]
  },
  {
   "cell_type": "code",
   "execution_count": 6,
   "metadata": {},
   "outputs": [
    {
     "name": "stdout",
     "output_type": "stream",
     "text": [
      "Введите номер документа: \n",
      "Документ не найден в базе\n"
     ]
    }
   ],
   "source": [
    "def shelf_by_number():\n",
    "    \n",
    "    user_input = input('Введите номер документа: ')\n",
    "    \n",
    "    for key, value in directories.items():\n",
    "        if user_input in value:\n",
    "            print('Документ хранится на полке:', key)\n",
    "            return\n",
    "        \n",
    "    else:\n",
    "        print('Документ не найден в базе')\n",
    "        return\n",
    "        \n",
    "shelf_by_number()"
   ]
  },
  {
   "cell_type": "markdown",
   "metadata": {},
   "source": [
    "### Пункт 3."
   ]
  },
  {
   "cell_type": "code",
   "execution_count": 7,
   "metadata": {},
   "outputs": [
    {
     "name": "stdout",
     "output_type": "stream",
     "text": [
      "№: 2207 876234, тип: passport, владелец: Василий Гупкин, полка хранения: 1\n",
      "№: 11-2, тип: invoice, владелец: Геннадий Покемонов, полка хранения: 1\n",
      "№: 10006, тип: insurance, владелец: Аристарх Павлов, полка хранения: 2\n"
     ]
    }
   ],
   "source": [
    "def total():\n",
    "    for docs in documents:\n",
    "        for key, value in directories.items():\n",
    "            if docs['number'] in value:\n",
    "                print(f\"№: {docs['number']}, тип: {docs['type']}, владелец: {docs['name']}, полка хранения: {key}\")\n",
    "    return\n",
    "total()"
   ]
  },
  {
   "cell_type": "markdown",
   "metadata": {},
   "source": [
    "### Пункт 4."
   ]
  },
  {
   "cell_type": "code",
   "execution_count": 8,
   "metadata": {},
   "outputs": [
    {
     "name": "stdout",
     "output_type": "stream",
     "text": [
      "Введите номер полки: \n",
      "Полка добавлена. Текущий перечень полок: 1,2,3,\n"
     ]
    }
   ],
   "source": [
    "def shelf_add():\n",
    "    user_input = input('Введите номер полки: ')\n",
    "    if user_input in directories:\n",
    "        print(f\"Такая полка уже существует. Текущий перечень полок: {','.join(directories.keys())}\")\n",
    "        return\n",
    "    else:\n",
    "        directories.setdefault(user_input, [])\n",
    "        print(f\"Полка добавлена. Текущий перечень полок: {','.join(directories.keys())}\")\n",
    "        return\n",
    "shelf_add()"
   ]
  },
  {
   "cell_type": "markdown",
   "metadata": {},
   "source": [
    "### Пункт 5."
   ]
  },
  {
   "cell_type": "code",
   "execution_count": 9,
   "metadata": {},
   "outputs": [
    {
     "name": "stdout",
     "output_type": "stream",
     "text": [
      "Введите номер полки: \n",
      "Полка удалена. Текущий перечень полок: 1,2,3\n"
     ]
    }
   ],
   "source": [
    "def shelf_del():\n",
    "    user_input = input('Введите номер полки: ')\n",
    "    if user_input in directories and directories[user_input] == []:\n",
    "        del directories[user_input]\n",
    "        print(f\"Полка удалена. Текущий перечень полок: {','.join(directories.keys())}\")\n",
    "        return\n",
    "    elif user_input in directories and directories[user_input] != []:\n",
    "        print(f\"На полке есть документы, удалите их перед удалением полки. Текущий перечень полок: {','.join(directories.keys())}\")\n",
    "        return\n",
    "    else:\n",
    "        print(f\"Такой полки не существует. Текущий перечень полок: {','.join(directories.keys())}\")\n",
    "        return\n",
    "shelf_del()"
   ]
  },
  {
   "cell_type": "markdown",
   "metadata": {},
   "source": [
    "### Пункт 1*."
   ]
  },
  {
   "cell_type": "code",
   "execution_count": 10,
   "metadata": {},
   "outputs": [
    {
     "name": "stdout",
     "output_type": "stream",
     "text": [
      "Введите номер документа: \n",
      "Введите тип документа: \n",
      "Введите владельца документа: \n",
      "Введите полку для хранения: \n",
      "Такой полки не существует. Добавьте полку командой as.\n",
      "Текущий список документов:\n",
      "№: 2207 876234, тип: passport, владелец: Василий Гупкин, полка хранения: 1\n",
      "№: 11-2, тип: invoice, владелец: Геннадий Покемонов, полка хранения: 1\n",
      "№: 10006, тип: insurance, владелец: Аристарх Павлов, полка хранения: 2\n"
     ]
    }
   ],
   "source": [
    "def add_someone():\n",
    "    number = input('Введите номер документа: ')\n",
    "    doc_type = input('Введите тип документа: ')\n",
    "    holder = input('Введите владельца документа: ')\n",
    "    shelf = input('Введите полку для хранения: ')\n",
    "    \n",
    "    if shelf in directories:\n",
    "        directories[shelf].append(number)\n",
    "        documents.append({'type': doc_type, 'number': number, 'name': holder})\n",
    "        print('Документ добавлен.')\n",
    "        print('Текущий список документов:')\n",
    "        total()\n",
    "        return\n",
    "    else:\n",
    "        print('Такой полки не существует. Добавьте полку командой as.')\n",
    "        print('Текущий список документов:')\n",
    "        total()\n",
    "        return\n",
    "\n",
    "add_someone()"
   ]
  },
  {
   "cell_type": "markdown",
   "metadata": {},
   "source": [
    "### Пункт 2*."
   ]
  },
  {
   "cell_type": "code",
   "execution_count": 11,
   "metadata": {},
   "outputs": [
    {
     "name": "stdout",
     "output_type": "stream",
     "text": [
      "Введите номер документа: \n",
      "Документ не найден в базе.\n"
     ]
    }
   ],
   "source": [
    "def del_someone():\n",
    "    number = input('Введите номер документа: ')\n",
    "    \n",
    "    for value in directories.values():\n",
    "        if number in value:\n",
    "            value.remove(number)\n",
    "            for docs in range(len(documents) - 1, -1, -1):\n",
    "                if documents[docs]['number'] == number:\n",
    "                    documents.pop(docs)\n",
    "                    print('Документ удален.')\n",
    "                    print('Текущий список документов:')\n",
    "                    total()\n",
    "                    return\n",
    "    else:\n",
    "        print('Документ не найден в базе.')\n",
    "        return\n",
    "        \n",
    "del_someone()"
   ]
  },
  {
   "cell_type": "markdown",
   "metadata": {},
   "source": [
    "### Пункт 3*."
   ]
  },
  {
   "cell_type": "code",
   "execution_count": 12,
   "metadata": {},
   "outputs": [
    {
     "name": "stdout",
     "output_type": "stream",
     "text": [
      "Введите номер документа: \n",
      "Введите полку для хранения: \n",
      "Такой полки не существует.\n",
      "Текущий перечень полок: 1,2,3\n"
     ]
    }
   ],
   "source": [
    "def move_someone():\n",
    "    \n",
    "    number = input('Введите номер документа: ')\n",
    "    shelf = input('Введите полку для хранения: ')\n",
    "    \n",
    "    if shelf in directories:\n",
    "        for value in directories.values():\n",
    "            if number in value:\n",
    "                value.remove(number)\n",
    "                directories[shelf].append(number)\n",
    "                print('Документ перемещен.')\n",
    "                print('Текущий список документов:')\n",
    "                total()\n",
    "                return\n",
    "        else:\n",
    "            print('Документ не найден в базе.')\n",
    "            print('Текущий список документов:')\n",
    "            total()\n",
    "            return\n",
    "    else:\n",
    "        print('Такой полки не существует.')\n",
    "        print(f\"Текущий перечень полок: {','.join(directories.keys())}\")\n",
    "        return\n",
    "    \n",
    "move_someone()"
   ]
  },
  {
   "cell_type": "markdown",
   "metadata": {},
   "source": [
    "### Main."
   ]
  },
  {
   "cell_type": "code",
   "execution_count": 13,
   "metadata": {},
   "outputs": [
    {
     "name": "stdout",
     "output_type": "stream",
     "text": [
      "Введите команду: \n",
      "Неверная команда.\n"
     ]
    }
   ],
   "source": [
    "def main():\n",
    "    while True:\n",
    "        user_input = input('Введите команду: ')\n",
    "        if user_input == 'p':\n",
    "            name_by_number()\n",
    "        elif user_input == 's':\n",
    "            shelf_by_number()\n",
    "        elif user_input == 'l':\n",
    "            total()\n",
    "        elif user_input == 'ads':\n",
    "            shelf_add()\n",
    "        elif user_input == 'ds':\n",
    "            shelf_del()\n",
    "        elif user_input == 'ad':\n",
    "            add_someone()\n",
    "        elif user_input == 'd':\n",
    "            del_someone()\n",
    "        elif user_input == 'm':\n",
    "            move_someone()\n",
    "        elif user_input == 'q':\n",
    "            print('До свидания!')\n",
    "            break\n",
    "        else:\n",
    "            print('Неверная команда.')\n",
    "            break\n",
    "main()"
   ]
  },
  {
   "cell_type": "code",
   "execution_count": 29,
   "metadata": {},
   "outputs": [],
   "source": [
    "d = {'p': name_by_number,\n",
    "     's': shelf_by_number,\n",
    "     'l': total,\n",
    "     'ads': shelf_add,\n",
    "     'ds': shelf_del,\n",
    "     'ad': add_someone,\n",
    "     'd': del_someone,\n",
    "     'm': move_someone}"
   ]
  },
  {
   "cell_type": "code",
   "execution_count": 41,
   "metadata": {},
   "outputs": [],
   "source": [
    "def main2():\n",
    "    while True:\n",
    "        user_input = input('Введите команду: ')\n",
    "        if user_input in d.keys():\n",
    "            d[user_input]()\n",
    "        elif user_input == 'q':\n",
    "            print('До свидания!')\n",
    "            break\n",
    "        else:\n",
    "            print('Неверная команда.')\n",
    "            break"
   ]
  },
  {
   "cell_type": "code",
   "execution_count": 42,
   "metadata": {},
   "outputs": [
    {
     "name": "stdout",
     "output_type": "stream",
     "text": [
      "Введите команду: ads\n",
      "Введите номер полки: \n",
      "Такая полка уже существует. Текущий перечень полок: 1,2,3,\n",
      "Введите команду: q\n",
      "До свидания!\n"
     ]
    }
   ],
   "source": [
    "main2()"
   ]
  },
  {
   "cell_type": "code",
   "execution_count": null,
   "metadata": {},
   "outputs": [],
   "source": []
  },
  {
   "cell_type": "code",
   "execution_count": null,
   "metadata": {},
   "outputs": [],
   "source": []
  },
  {
   "cell_type": "code",
   "execution_count": null,
   "metadata": {},
   "outputs": [],
   "source": []
  },
  {
   "cell_type": "code",
   "execution_count": null,
   "metadata": {},
   "outputs": [],
   "source": []
  }
 ],
 "metadata": {
  "kernelspec": {
   "display_name": "Python 3",
   "language": "python",
   "name": "python3"
  },
  "language_info": {
   "codemirror_mode": {
    "name": "ipython",
    "version": 3
   },
   "file_extension": ".py",
   "mimetype": "text/x-python",
   "name": "python",
   "nbconvert_exporter": "python",
   "pygments_lexer": "ipython3",
   "version": "3.8.5"
  }
 },
 "nbformat": 4,
 "nbformat_minor": 4
}
