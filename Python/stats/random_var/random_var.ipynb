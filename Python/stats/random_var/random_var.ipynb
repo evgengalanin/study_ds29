{
 "cells": [
  {
   "cell_type": "code",
   "execution_count": 1,
   "metadata": {},
   "outputs": [],
   "source": [
    "import numpy as np"
   ]
  },
  {
   "cell_type": "markdown",
   "metadata": {},
   "source": [
    "1. Модель игры с автоматом"
   ]
  },
  {
   "cell_type": "code",
   "execution_count": 2,
   "metadata": {},
   "outputs": [
    {
     "name": "stdout",
     "output_type": "stream",
     "text": [
      "0.203994 -0.19480260000000005\n"
     ]
    }
   ],
   "source": [
    "games = 10000000\n",
    "game_cost = 1\n",
    "\n",
    "win = 0\n",
    "lose = 0\n",
    "cash_list = []\n",
    "\n",
    "\n",
    "for i in range(games):\n",
    "    \n",
    "    number = np.random.randint(0, 1000)\n",
    "    \n",
    "    if number == 777:\n",
    "        cash = 200\n",
    "        win += 1\n",
    "    elif number == 999:\n",
    "        cash = 100\n",
    "        win += 1\n",
    "    elif number == 555:\n",
    "        cash = 55\n",
    "        win += 1\n",
    "    elif number == 333:\n",
    "        cash = 15\n",
    "        win += 1\n",
    "    elif number == 111:\n",
    "        cash = 10\n",
    "        win += 1\n",
    "    elif number % 100 == 77:\n",
    "        cash = 5\n",
    "        win += 1\n",
    "    elif number % 10 == 7:\n",
    "        cash = 3\n",
    "        win += 1\n",
    "    elif number % 100 == 0:\n",
    "        cash = 2\n",
    "        win += 1\n",
    "    elif number % 10 == 0:\n",
    "        cash = 1\n",
    "        win += 1\n",
    "    else:\n",
    "        cash = 0\n",
    "        lose += 1\n",
    "        \n",
    "    cash_list.append(cash)  \n",
    "    \n",
    "p_monte_carlo = win / (win+lose)\n",
    "    \n",
    "mean_cash = (sum(cash_list) / len(cash_list)) - game_cost\n",
    "\n",
    "print(p_monte_carlo, mean_cash)"
   ]
  },
  {
   "cell_type": "markdown",
   "metadata": {},
   "source": [
    "Игра не выгодна, так как выигрыш встречается в 20% случаев и средняя сумма потерь в каждой игре составляет 0.29 рублей."
   ]
  },
  {
   "cell_type": "markdown",
   "metadata": {},
   "source": [
    "2. Теоретические значения"
   ]
  },
  {
   "cell_type": "code",
   "execution_count": 15,
   "metadata": {},
   "outputs": [
    {
     "name": "stdout",
     "output_type": "stream",
     "text": [
      "0.20299999999999999 -0.19599999999999995\n"
     ]
    }
   ],
   "source": [
    "# Вероятность выигрыша\n",
    "p = 0.001 + 0.001 + 0.001 + 0.001 + 0.001 + 0.009 + 0.09 + 0.009 + 0.09\n",
    "\n",
    "# Средний выигрыш\n",
    "mean_cash_t = 200*0.001 + 100*0.001 + 55*0.001 + 15*0.001 + 10*0.001 + 5*0.009 + 3*0.09 + 2*0.009 + 1*0.091 - 1*1\n",
    "print(p, mean_cash_t)"
   ]
  },
  {
   "cell_type": "markdown",
   "metadata": {},
   "source": [
    "При теоретическом расчёте видим немного отличающиеся значения:"
   ]
  },
  {
   "cell_type": "code",
   "execution_count": 18,
   "metadata": {},
   "outputs": [
    {
     "name": "stdout",
     "output_type": "stream",
     "text": [
      "Вероятность выигрыша в теории против вероятности выигрыша при моделировании игры: 0.20299999999999999 / 0.204\n",
      "Средняя сумма потерь в теории против того же при моделировании: -0.196 / -0.195\n"
     ]
    }
   ],
   "source": [
    "print(f'Вероятность выигрыша в теории против вероятности выигрыша при моделировании игры: {p} / {round(p_monte_carlo, 3)}')\n",
    "print(f'Средняя сумма потерь в теории против того же при моделировании: {round(mean_cash_t, 3)} / {round(mean_cash, 3)}')"
   ]
  }
 ],
 "metadata": {
  "kernelspec": {
   "display_name": "Python 3",
   "language": "python",
   "name": "python3"
  },
  "language_info": {
   "codemirror_mode": {
    "name": "ipython",
    "version": 3
   },
   "file_extension": ".py",
   "mimetype": "text/x-python",
   "name": "python",
   "nbconvert_exporter": "python",
   "pygments_lexer": "ipython3",
   "version": "3.8.5"
  }
 },
 "nbformat": 4,
 "nbformat_minor": 4
}
