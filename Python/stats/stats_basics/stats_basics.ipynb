{
 "cells": [
  {
   "cell_type": "code",
   "execution_count": 3,
   "metadata": {},
   "outputs": [],
   "source": [
    "Attribute_Information_dict = {\n",
    "    1:  ['surgery?',\n",
    "          '1 = Yes, it had surgery',\n",
    "          '2 = It was treated without surgery'],\n",
    "    2: ['Age',\n",
    "          '1 = Adult horse',\n",
    "          '2 = Young (< 6 months)'],\n",
    "    3: ['Hospital Number',\n",
    "          '- numeric id',\n",
    "          '- the case number assigned to the horse',\n",
    "            '(may not be unique if the horse is treated > 1 time)'],\n",
    "    4: ['Rectal temperature',\n",
    "          '- linear',\n",
    "          '- in degrees celsius.',\n",
    "          '- An elevated temp may occur due to infection.',\n",
    "          '- temperature may be reduced when the animal is in late shock',\n",
    "          '- normal temp is 37.8',\n",
    "          '- this parameter will usually change as the problem progresses',\n",
    "               'eg. may start out normal, then become elevated because of',\n",
    "                   'the lesion, passing back through the normal range as the',\n",
    "                   'horse goes into shock'],\n",
    "    5: ['pulse',\n",
    "          '- linear',\n",
    "          '- the heart rate in beats per minute',\n",
    "          '- is a reflection of the heart condition: 30 -40 is normal for adults',\n",
    "          '- rare to have a lower than normal rate although athletic horses',\n",
    "            'may have a rate of 20-25',\n",
    "          '- animals with painful lesions or suffering from circulatory shock',\n",
    "            'may have an elevated heart rate'],\n",
    "    6: ['respiratory rate',\n",
    "          '- linear',\n",
    "          '- normal rate is 8 to 10',\n",
    "          '- usefulness is doubtful due to the great fluctuations'],\n",
    "    7: ['temperature of extremities',\n",
    "          '- a subjective indication of peripheral circulation',\n",
    "          '- possible values:',\n",
    "               '1 = Normal',\n",
    "               '2 = Warm',\n",
    "               '3 = Cool',\n",
    "               '4 = Cold',\n",
    "          '- cool to cold extremities indicate possible shock',\n",
    "          '- hot extremities should correlate with an elevated rectal temp.'],\n",
    "    8: ['peripheral pulse',\n",
    "          '- subjective',\n",
    "          '- possible values are:',\n",
    "               '1 = normal',\n",
    "               '2 = increased',\n",
    "               '3 = reduced',\n",
    "               '4 = absent',\n",
    "          '- normal or increased p.p. are indicative of adequate circulation',\n",
    "            'while reduced or absent indicate poor perfusion'],\n",
    "    9: ['mucous membranes',\n",
    "          '- a subjective measurement of colour',\n",
    "          '- possible values are:',\n",
    "               '1 = normal pink',\n",
    "               '2 = bright pink',\n",
    "               '3 = pale pink',\n",
    "               '4 = pale cyanotic',\n",
    "               '5 = bright red / injected',\n",
    "               '6 = dark cyanotic',\n",
    "          '- 1 and 2 probably indicate a normal or slightly increased',\n",
    "            'circulation',\n",
    "          '- 3 may occur in early shock',\n",
    "          '- 4 and 6 are indicative of serious circulatory compromise',\n",
    "          '- 5 is more indicative of a septicemia'],\n",
    "    10: ['capillary refill time',\n",
    "          '- a clinical judgement. The longer the refill, the poorer the circulation',\n",
    "           '- possible values',\n",
    "               '1 = < 3 seconds',\n",
    "               '2 = >= 3 seconds'],\n",
    "    11: ['pain - a subjective judgement of the horse\"s pain level',\n",
    "          '- possible values:',\n",
    "               '1 = alert, no pain',\n",
    "               '2 = depressed',\n",
    "               '3 = intermittent mild pain',\n",
    "               '4 = intermittent severe pain',\n",
    "               '5 = continuous severe pain',\n",
    "          '- should NOT be treated as a ordered or discrete variable!',\n",
    "          '- In general, the more painful, the more likely it is to require surgery',\n",
    "          '- prior treatment of pain may mask the pain level to some extent'],\n",
    "    12: ['peristalsis',\n",
    "          '- an indication of the activity in the horse\"s gut. As the gut',\n",
    "            'becomes more distended or the horse becomes more toxic, the',\n",
    "            'activity decreases',\n",
    "          '- possible values:',\n",
    "               '1 = hypermotile',\n",
    "               '2 = normal',\n",
    "               '3 = hypomotile',\n",
    "               '4 = absent'],\n",
    "    13: ['abdominal distension',\n",
    "          '- An IMPORTANT parameter.',\n",
    "          '- possible values',\n",
    "               '1 = none',\n",
    "               '2 = slight',\n",
    "               '3 = moderate',\n",
    "               '4 = severe',\n",
    "          '- an animal with abdominal distension is likely to be painful and',\n",
    "            'have reduced gut motility.',\n",
    "          '- a horse with severe abdominal distension is likely to require',\n",
    "            'surgery just to relieve the pressure'],\n",
    "    14: ['nasogastric tube',\n",
    "          '- this refers to any gas coming out of the tube',\n",
    "          '- possible values:',\n",
    "               '1 = none',\n",
    "               '2 = slight',\n",
    "               '3 = significant',\n",
    "          '- a large gas cap in the stomach is likely to give the horse discomfort'],\n",
    "    15: ['nasogastric reflux',\n",
    "          '- possible values',\n",
    "               '1 = none',\n",
    "               '2 = > 1 liter',\n",
    "               '3 = < 1 liter',\n",
    "          '- the greater amount of reflux, the more likelihood that there is',\n",
    "            'some serious obstruction to the fluid passage from the rest of the intestine'],\n",
    "    16: ['nasogastric reflux PH',\n",
    "          '- linear',\n",
    "          '- scale is from 0 to 14 with 7 being neutral',\n",
    "          '- normal values are in the 3 to 4 range'],\n",
    "    17: ['rectal examination - feces',\n",
    "          '- possible values',\n",
    "               '1 = normal',\n",
    "               '2 = increased',\n",
    "               '3 = decreased',\n",
    "               '4 = absent',\n",
    "          '- absent feces probably indicates an obstruction'],\n",
    "    18: ['abdomen',\n",
    "          '- possible values',\n",
    "               '1 = normal',\n",
    "               '2 = other',\n",
    "               '3 = firm feces in the large intestine',\n",
    "               '4 = distended small intestine',\n",
    "               '5 = distended large intestine',\n",
    "          '- 3 is probably an obstruction caused by a mechanical impaction and is normally treated medically',\n",
    "          '- 4 and 5 indicate a surgical lesion'],\n",
    "    19: ['packed cell volume',\n",
    "          '- linear',\n",
    "          '- the # of red cells by volume in the blood',\n",
    "          '- normal range is 30 to 50. The level rises as the circulation',\n",
    "            'becomes compromised or as the animal becomes dehydrated.'],\n",
    "    20: ['total protein',\n",
    "          '- linear',\n",
    "          '- normal values lie in the 6-7.5 (gms/dL) range',\n",
    "          '- the higher the value the greater the dehydration'],\n",
    "    21: ['abdominocentesis appearance',\n",
    "          '- a needle is put in the horse\"s abdomen and fluid is obtained from',\n",
    "            'the abdominal cavity',\n",
    "          '- possible values:',\n",
    "               '1 = clear',\n",
    "               '2 = cloudy',\n",
    "               '3 = serosanguinous',\n",
    "          '- normal fluid is clear while cloudy or serosanguinous indicates a compromised gut'],\n",
    "    22: ['abdomcentesis total protein',\n",
    "          '- linear',\n",
    "          '- the higher the level of protein the more likely it is to have a',\n",
    "            'compromised gut. Values are in gms/dL'],\n",
    "    23: ['outcome',\n",
    "          '- what eventually happened to the horse?',\n",
    "          '- possible values:',\n",
    "               '1 = lived',\n",
    "               '2 = died',\n",
    "               '3 = was euthanized'],\n",
    "    24: ['surgical lesion?',\n",
    "          '- retrospectively, was the problem (lesion) surgical?',\n",
    "          '- all cases are either operated upon or autopsied so that',\n",
    "           ' this value and the lesion type are always known',\n",
    "          '- possible values:',\n",
    "               '1 = Yes',\n",
    "               '2 = No'],\n",
    "    25: ['type of lesion',\n",
    "          '- first number is site of lesion',\n",
    "               '1 = gastric',\n",
    "               '2 = sm intestine',\n",
    "               '3 = lg colon',\n",
    "               '4 = lg colon and cecum',\n",
    "               '5 = cecum',\n",
    "               '6 = transverse colon',\n",
    "               '7 = retum/descending colon',\n",
    "               '8 = uterus',\n",
    "               '9 = bladder',\n",
    "               '11 = all intestinal sites',\n",
    "               '00 = none',\n",
    "          '- second number is type',\n",
    "               '1 = simple',\n",
    "               '2 = strangulation',\n",
    "               '3 = inflammation',\n",
    "               '4 = other',\n",
    "          '- third number is subtype',\n",
    "               '1 = mechanical',\n",
    "               '2 = paralytic',\n",
    "               '0 = n/a',\n",
    "          '- fourth number is specific code',\n",
    "               '1 = obturation',\n",
    "               '2 = intrinsic',\n",
    "               '3 = extrinsic',\n",
    "               '4 = adynamic',\n",
    "               '5 = volvulus/torsion',\n",
    "               '6 = intussuption',\n",
    "               '7 = thromboembolic',\n",
    "               '8 = hernia',\n",
    "               '9 = lipoma/slenic incarceration',\n",
    "               '10 = displacement',\n",
    "               '0 = n/a'],\n",
    "    26: ['check 25'],\n",
    "    27: ['check 25'],\n",
    "    28: ['cp_data',\n",
    "          '- is pathology data present for this case?',\n",
    "               '1 = Yes',\n",
    "               '2 = No',\n",
    "          '- this variable is of no significance since pathology data',\n",
    "            'is not included or collected for these cases']\n",
    "}"
   ]
  },
  {
   "cell_type": "code",
   "execution_count": 4,
   "metadata": {},
   "outputs": [],
   "source": [
    "import pandas as pd\n",
    "import numpy as np"
   ]
  },
  {
   "cell_type": "markdown",
   "metadata": {},
   "source": [
    "### Читаем файл и задаём имена колонкам как атрибуты"
   ]
  },
  {
   "cell_type": "code",
   "execution_count": 5,
   "metadata": {},
   "outputs": [],
   "source": [
    "names = list(range(1,29)) "
   ]
  },
  {
   "cell_type": "code",
   "execution_count": 6,
   "metadata": {},
   "outputs": [
    {
     "data": {
      "text/html": [
       "<div>\n",
       "<style scoped>\n",
       "    .dataframe tbody tr th:only-of-type {\n",
       "        vertical-align: middle;\n",
       "    }\n",
       "\n",
       "    .dataframe tbody tr th {\n",
       "        vertical-align: top;\n",
       "    }\n",
       "\n",
       "    .dataframe thead th {\n",
       "        text-align: right;\n",
       "    }\n",
       "</style>\n",
       "<table border=\"1\" class=\"dataframe\">\n",
       "  <thead>\n",
       "    <tr style=\"text-align: right;\">\n",
       "      <th></th>\n",
       "      <th>1</th>\n",
       "      <th>2</th>\n",
       "      <th>3</th>\n",
       "      <th>4</th>\n",
       "      <th>5</th>\n",
       "      <th>6</th>\n",
       "      <th>7</th>\n",
       "      <th>8</th>\n",
       "      <th>9</th>\n",
       "      <th>10</th>\n",
       "      <th>...</th>\n",
       "      <th>19</th>\n",
       "      <th>20</th>\n",
       "      <th>21</th>\n",
       "      <th>22</th>\n",
       "      <th>23</th>\n",
       "      <th>24</th>\n",
       "      <th>25</th>\n",
       "      <th>26</th>\n",
       "      <th>27</th>\n",
       "      <th>28</th>\n",
       "    </tr>\n",
       "  </thead>\n",
       "  <tbody>\n",
       "    <tr>\n",
       "      <th>0</th>\n",
       "      <td>2</td>\n",
       "      <td>1</td>\n",
       "      <td>530101</td>\n",
       "      <td>38.50</td>\n",
       "      <td>66</td>\n",
       "      <td>28</td>\n",
       "      <td>3</td>\n",
       "      <td>3</td>\n",
       "      <td>?</td>\n",
       "      <td>2</td>\n",
       "      <td>...</td>\n",
       "      <td>45.00</td>\n",
       "      <td>8.40</td>\n",
       "      <td>?</td>\n",
       "      <td>?</td>\n",
       "      <td>2</td>\n",
       "      <td>2</td>\n",
       "      <td>11300</td>\n",
       "      <td>0</td>\n",
       "      <td>0</td>\n",
       "      <td>2</td>\n",
       "    </tr>\n",
       "    <tr>\n",
       "      <th>1</th>\n",
       "      <td>1</td>\n",
       "      <td>1</td>\n",
       "      <td>534817</td>\n",
       "      <td>39.2</td>\n",
       "      <td>88</td>\n",
       "      <td>20</td>\n",
       "      <td>?</td>\n",
       "      <td>?</td>\n",
       "      <td>4</td>\n",
       "      <td>1</td>\n",
       "      <td>...</td>\n",
       "      <td>50</td>\n",
       "      <td>85</td>\n",
       "      <td>2</td>\n",
       "      <td>2</td>\n",
       "      <td>3</td>\n",
       "      <td>2</td>\n",
       "      <td>2208</td>\n",
       "      <td>0</td>\n",
       "      <td>0</td>\n",
       "      <td>2</td>\n",
       "    </tr>\n",
       "    <tr>\n",
       "      <th>2</th>\n",
       "      <td>2</td>\n",
       "      <td>1</td>\n",
       "      <td>530334</td>\n",
       "      <td>38.30</td>\n",
       "      <td>40</td>\n",
       "      <td>24</td>\n",
       "      <td>1</td>\n",
       "      <td>1</td>\n",
       "      <td>3</td>\n",
       "      <td>1</td>\n",
       "      <td>...</td>\n",
       "      <td>33.00</td>\n",
       "      <td>6.70</td>\n",
       "      <td>?</td>\n",
       "      <td>?</td>\n",
       "      <td>1</td>\n",
       "      <td>2</td>\n",
       "      <td>0</td>\n",
       "      <td>0</td>\n",
       "      <td>0</td>\n",
       "      <td>1</td>\n",
       "    </tr>\n",
       "    <tr>\n",
       "      <th>3</th>\n",
       "      <td>1</td>\n",
       "      <td>9</td>\n",
       "      <td>5290409</td>\n",
       "      <td>39.10</td>\n",
       "      <td>164</td>\n",
       "      <td>84</td>\n",
       "      <td>4</td>\n",
       "      <td>1</td>\n",
       "      <td>6</td>\n",
       "      <td>2</td>\n",
       "      <td>...</td>\n",
       "      <td>48.00</td>\n",
       "      <td>7.20</td>\n",
       "      <td>3</td>\n",
       "      <td>5.30</td>\n",
       "      <td>2</td>\n",
       "      <td>1</td>\n",
       "      <td>2208</td>\n",
       "      <td>0</td>\n",
       "      <td>0</td>\n",
       "      <td>1</td>\n",
       "    </tr>\n",
       "    <tr>\n",
       "      <th>4</th>\n",
       "      <td>2</td>\n",
       "      <td>1</td>\n",
       "      <td>530255</td>\n",
       "      <td>37.30</td>\n",
       "      <td>104</td>\n",
       "      <td>35</td>\n",
       "      <td>?</td>\n",
       "      <td>?</td>\n",
       "      <td>6</td>\n",
       "      <td>2</td>\n",
       "      <td>...</td>\n",
       "      <td>74.00</td>\n",
       "      <td>7.40</td>\n",
       "      <td>?</td>\n",
       "      <td>?</td>\n",
       "      <td>2</td>\n",
       "      <td>2</td>\n",
       "      <td>4300</td>\n",
       "      <td>0</td>\n",
       "      <td>0</td>\n",
       "      <td>2</td>\n",
       "    </tr>\n",
       "    <tr>\n",
       "      <th>...</th>\n",
       "      <td>...</td>\n",
       "      <td>...</td>\n",
       "      <td>...</td>\n",
       "      <td>...</td>\n",
       "      <td>...</td>\n",
       "      <td>...</td>\n",
       "      <td>...</td>\n",
       "      <td>...</td>\n",
       "      <td>...</td>\n",
       "      <td>...</td>\n",
       "      <td>...</td>\n",
       "      <td>...</td>\n",
       "      <td>...</td>\n",
       "      <td>...</td>\n",
       "      <td>...</td>\n",
       "      <td>...</td>\n",
       "      <td>...</td>\n",
       "      <td>...</td>\n",
       "      <td>...</td>\n",
       "      <td>...</td>\n",
       "      <td>...</td>\n",
       "    </tr>\n",
       "    <tr>\n",
       "      <th>295</th>\n",
       "      <td>1</td>\n",
       "      <td>1</td>\n",
       "      <td>533886</td>\n",
       "      <td>?</td>\n",
       "      <td>120</td>\n",
       "      <td>70</td>\n",
       "      <td>4</td>\n",
       "      <td>?</td>\n",
       "      <td>4</td>\n",
       "      <td>2</td>\n",
       "      <td>...</td>\n",
       "      <td>55</td>\n",
       "      <td>65</td>\n",
       "      <td>?</td>\n",
       "      <td>?</td>\n",
       "      <td>3</td>\n",
       "      <td>2</td>\n",
       "      <td>3205</td>\n",
       "      <td>0</td>\n",
       "      <td>0</td>\n",
       "      <td>2</td>\n",
       "    </tr>\n",
       "    <tr>\n",
       "      <th>296</th>\n",
       "      <td>2</td>\n",
       "      <td>1</td>\n",
       "      <td>527702</td>\n",
       "      <td>37.20</td>\n",
       "      <td>72</td>\n",
       "      <td>24</td>\n",
       "      <td>3</td>\n",
       "      <td>2</td>\n",
       "      <td>4</td>\n",
       "      <td>2</td>\n",
       "      <td>...</td>\n",
       "      <td>44.00</td>\n",
       "      <td>?</td>\n",
       "      <td>3</td>\n",
       "      <td>3.30</td>\n",
       "      <td>3</td>\n",
       "      <td>1</td>\n",
       "      <td>2208</td>\n",
       "      <td>0</td>\n",
       "      <td>0</td>\n",
       "      <td>1</td>\n",
       "    </tr>\n",
       "    <tr>\n",
       "      <th>297</th>\n",
       "      <td>1</td>\n",
       "      <td>1</td>\n",
       "      <td>529386</td>\n",
       "      <td>37.50</td>\n",
       "      <td>72</td>\n",
       "      <td>30</td>\n",
       "      <td>4</td>\n",
       "      <td>3</td>\n",
       "      <td>4</td>\n",
       "      <td>1</td>\n",
       "      <td>...</td>\n",
       "      <td>60.00</td>\n",
       "      <td>6.80</td>\n",
       "      <td>?</td>\n",
       "      <td>?</td>\n",
       "      <td>2</td>\n",
       "      <td>1</td>\n",
       "      <td>3205</td>\n",
       "      <td>0</td>\n",
       "      <td>0</td>\n",
       "      <td>2</td>\n",
       "    </tr>\n",
       "    <tr>\n",
       "      <th>298</th>\n",
       "      <td>1</td>\n",
       "      <td>1</td>\n",
       "      <td>530612</td>\n",
       "      <td>36.50</td>\n",
       "      <td>100</td>\n",
       "      <td>24</td>\n",
       "      <td>3</td>\n",
       "      <td>3</td>\n",
       "      <td>3</td>\n",
       "      <td>1</td>\n",
       "      <td>...</td>\n",
       "      <td>50.00</td>\n",
       "      <td>6.00</td>\n",
       "      <td>3</td>\n",
       "      <td>3.40</td>\n",
       "      <td>1</td>\n",
       "      <td>1</td>\n",
       "      <td>2208</td>\n",
       "      <td>0</td>\n",
       "      <td>0</td>\n",
       "      <td>1</td>\n",
       "    </tr>\n",
       "    <tr>\n",
       "      <th>299</th>\n",
       "      <td>1</td>\n",
       "      <td>1</td>\n",
       "      <td>534618</td>\n",
       "      <td>37.2</td>\n",
       "      <td>40</td>\n",
       "      <td>20</td>\n",
       "      <td>?</td>\n",
       "      <td>?</td>\n",
       "      <td>?</td>\n",
       "      <td>?</td>\n",
       "      <td>...</td>\n",
       "      <td>36</td>\n",
       "      <td>62</td>\n",
       "      <td>1</td>\n",
       "      <td>1</td>\n",
       "      <td>3</td>\n",
       "      <td>2</td>\n",
       "      <td>6112</td>\n",
       "      <td>0</td>\n",
       "      <td>0</td>\n",
       "      <td>2</td>\n",
       "    </tr>\n",
       "  </tbody>\n",
       "</table>\n",
       "<p>300 rows × 28 columns</p>\n",
       "</div>"
      ],
      "text/plain": [
       "    1   2        3      4    5   6  7  8  9  10  ...     19    20 21    22 23  \\\n",
       "0    2   1   530101  38.50   66  28  3  3  ?  2  ...  45.00  8.40  ?     ?  2   \n",
       "1    1   1   534817   39.2   88  20  ?  ?  4  1  ...     50    85  2     2  3   \n",
       "2    2   1   530334  38.30   40  24  1  1  3  1  ...  33.00  6.70  ?     ?  1   \n",
       "3    1   9  5290409  39.10  164  84  4  1  6  2  ...  48.00  7.20  3  5.30  2   \n",
       "4    2   1   530255  37.30  104  35  ?  ?  6  2  ...  74.00  7.40  ?     ?  2   \n",
       "..  ..  ..      ...    ...  ...  .. .. .. .. ..  ...    ...   ... ..   ... ..   \n",
       "295  1   1   533886      ?  120  70  4  ?  4  2  ...     55    65  ?     ?  3   \n",
       "296  2   1   527702  37.20   72  24  3  2  4  2  ...  44.00     ?  3  3.30  3   \n",
       "297  1   1   529386  37.50   72  30  4  3  4  1  ...  60.00  6.80  ?     ?  2   \n",
       "298  1   1   530612  36.50  100  24  3  3  3  1  ...  50.00  6.00  3  3.40  1   \n",
       "299  1   1   534618   37.2   40  20  ?  ?  ?  ?  ...     36    62  1     1  3   \n",
       "\n",
       "    24     25 26 27 28  \n",
       "0    2  11300  0  0  2  \n",
       "1    2   2208  0  0  2  \n",
       "2    2      0  0  0  1  \n",
       "3    1   2208  0  0  1  \n",
       "4    2   4300  0  0  2  \n",
       "..  ..    ... .. .. ..  \n",
       "295  2   3205  0  0  2  \n",
       "296  1   2208  0  0  1  \n",
       "297  1   3205  0  0  2  \n",
       "298  1   2208  0  0  1  \n",
       "299  2   6112  0  0  2  \n",
       "\n",
       "[300 rows x 28 columns]"
      ]
     },
     "execution_count": 6,
     "metadata": {},
     "output_type": "execute_result"
    }
   ],
   "source": [
    "horse_data_df = pd.read_csv('horse_data.csv', names=names)\n",
    "horse_data_df"
   ]
  },
  {
   "cell_type": "code",
   "execution_count": 7,
   "metadata": {
    "scrolled": false
   },
   "outputs": [
    {
     "data": {
      "text/html": [
       "<div>\n",
       "<style scoped>\n",
       "    .dataframe tbody tr th:only-of-type {\n",
       "        vertical-align: middle;\n",
       "    }\n",
       "\n",
       "    .dataframe tbody tr th {\n",
       "        vertical-align: top;\n",
       "    }\n",
       "\n",
       "    .dataframe thead th {\n",
       "        text-align: right;\n",
       "    }\n",
       "</style>\n",
       "<table border=\"1\" class=\"dataframe\">\n",
       "  <thead>\n",
       "    <tr style=\"text-align: right;\">\n",
       "      <th></th>\n",
       "      <th>1</th>\n",
       "      <th>4</th>\n",
       "      <th>5</th>\n",
       "      <th>12</th>\n",
       "      <th>13</th>\n",
       "      <th>18</th>\n",
       "      <th>23</th>\n",
       "      <th>24</th>\n",
       "    </tr>\n",
       "  </thead>\n",
       "  <tbody>\n",
       "    <tr>\n",
       "      <th>0</th>\n",
       "      <td>2</td>\n",
       "      <td>38.50</td>\n",
       "      <td>66</td>\n",
       "      <td>4</td>\n",
       "      <td>4</td>\n",
       "      <td>5</td>\n",
       "      <td>2</td>\n",
       "      <td>2</td>\n",
       "    </tr>\n",
       "    <tr>\n",
       "      <th>1</th>\n",
       "      <td>1</td>\n",
       "      <td>39.2</td>\n",
       "      <td>88</td>\n",
       "      <td>4</td>\n",
       "      <td>2</td>\n",
       "      <td>2</td>\n",
       "      <td>3</td>\n",
       "      <td>2</td>\n",
       "    </tr>\n",
       "    <tr>\n",
       "      <th>2</th>\n",
       "      <td>2</td>\n",
       "      <td>38.30</td>\n",
       "      <td>40</td>\n",
       "      <td>3</td>\n",
       "      <td>1</td>\n",
       "      <td>1</td>\n",
       "      <td>1</td>\n",
       "      <td>2</td>\n",
       "    </tr>\n",
       "    <tr>\n",
       "      <th>3</th>\n",
       "      <td>1</td>\n",
       "      <td>39.10</td>\n",
       "      <td>164</td>\n",
       "      <td>4</td>\n",
       "      <td>4</td>\n",
       "      <td>?</td>\n",
       "      <td>2</td>\n",
       "      <td>1</td>\n",
       "    </tr>\n",
       "    <tr>\n",
       "      <th>4</th>\n",
       "      <td>2</td>\n",
       "      <td>37.30</td>\n",
       "      <td>104</td>\n",
       "      <td>?</td>\n",
       "      <td>?</td>\n",
       "      <td>?</td>\n",
       "      <td>2</td>\n",
       "      <td>2</td>\n",
       "    </tr>\n",
       "    <tr>\n",
       "      <th>...</th>\n",
       "      <td>...</td>\n",
       "      <td>...</td>\n",
       "      <td>...</td>\n",
       "      <td>...</td>\n",
       "      <td>...</td>\n",
       "      <td>...</td>\n",
       "      <td>...</td>\n",
       "      <td>...</td>\n",
       "    </tr>\n",
       "    <tr>\n",
       "      <th>295</th>\n",
       "      <td>1</td>\n",
       "      <td>?</td>\n",
       "      <td>120</td>\n",
       "      <td>4</td>\n",
       "      <td>?</td>\n",
       "      <td>5</td>\n",
       "      <td>3</td>\n",
       "      <td>2</td>\n",
       "    </tr>\n",
       "    <tr>\n",
       "      <th>296</th>\n",
       "      <td>2</td>\n",
       "      <td>37.20</td>\n",
       "      <td>72</td>\n",
       "      <td>3</td>\n",
       "      <td>3</td>\n",
       "      <td>4</td>\n",
       "      <td>3</td>\n",
       "      <td>1</td>\n",
       "    </tr>\n",
       "    <tr>\n",
       "      <th>297</th>\n",
       "      <td>1</td>\n",
       "      <td>37.50</td>\n",
       "      <td>72</td>\n",
       "      <td>4</td>\n",
       "      <td>3</td>\n",
       "      <td>5</td>\n",
       "      <td>2</td>\n",
       "      <td>1</td>\n",
       "    </tr>\n",
       "    <tr>\n",
       "      <th>298</th>\n",
       "      <td>1</td>\n",
       "      <td>36.50</td>\n",
       "      <td>100</td>\n",
       "      <td>3</td>\n",
       "      <td>3</td>\n",
       "      <td>4</td>\n",
       "      <td>1</td>\n",
       "      <td>1</td>\n",
       "    </tr>\n",
       "    <tr>\n",
       "      <th>299</th>\n",
       "      <td>1</td>\n",
       "      <td>37.2</td>\n",
       "      <td>40</td>\n",
       "      <td>?</td>\n",
       "      <td>?</td>\n",
       "      <td>1</td>\n",
       "      <td>3</td>\n",
       "      <td>2</td>\n",
       "    </tr>\n",
       "  </tbody>\n",
       "</table>\n",
       "<p>300 rows × 8 columns</p>\n",
       "</div>"
      ],
      "text/plain": [
       "    1      4    5  12 13 18 23  24\n",
       "0    2  38.50   66  4  4  5  2   2\n",
       "1    1   39.2   88  4  2  2  3   2\n",
       "2    2  38.30   40  3  1  1  1   2\n",
       "3    1  39.10  164  4  4  ?  2   1\n",
       "4    2  37.30  104  ?  ?  ?  2   2\n",
       "..  ..    ...  ... .. .. .. ..  ..\n",
       "295  1      ?  120  4  ?  5  3   2\n",
       "296  2  37.20   72  3  3  4  3   1\n",
       "297  1  37.50   72  4  3  5  2   1\n",
       "298  1  36.50  100  3  3  4  1   1\n",
       "299  1   37.2   40  ?  ?  1  3   2\n",
       "\n",
       "[300 rows x 8 columns]"
      ]
     },
     "execution_count": 7,
     "metadata": {},
     "output_type": "execute_result"
    }
   ],
   "source": [
    "df_small = horse_data_df[[1, 4, 5, 12, 13, 18, 23, 24]]\n",
    "df_small"
   ]
  },
  {
   "cell_type": "code",
   "execution_count": 8,
   "metadata": {},
   "outputs": [],
   "source": [
    "df_small = df_small.replace('?', 0).astype(float) # для удобства пока так"
   ]
  },
  {
   "cell_type": "markdown",
   "metadata": {},
   "source": [
    "### 1. 1 - surgery?"
   ]
  },
  {
   "cell_type": "code",
   "execution_count": 9,
   "metadata": {},
   "outputs": [
    {
     "data": {
      "text/plain": [
       "['surgery?', '1 = Yes, it had surgery', '2 = It was treated without surgery']"
      ]
     },
     "execution_count": 9,
     "metadata": {},
     "output_type": "execute_result"
    }
   ],
   "source": [
    "Attribute_Information_dict[1]"
   ]
  },
  {
   "cell_type": "code",
   "execution_count": 10,
   "metadata": {},
   "outputs": [
    {
     "data": {
      "text/plain": [
       "1.0    180\n",
       "2.0    119\n",
       "0.0      1\n",
       "Name: 1, dtype: int64"
      ]
     },
     "execution_count": 10,
     "metadata": {},
     "output_type": "execute_result"
    }
   ],
   "source": [
    "df_small[1].value_counts()"
   ]
  },
  {
   "cell_type": "markdown",
   "metadata": {},
   "source": [
    "#### В столбце surgery видим один пропуск - это меньше процента, добавим к 119, для ровного счёта."
   ]
  },
  {
   "cell_type": "code",
   "execution_count": 11,
   "metadata": {},
   "outputs": [],
   "source": [
    "df_small.loc[df_small[1] == 0.0, [1]] = 2"
   ]
  },
  {
   "cell_type": "code",
   "execution_count": 12,
   "metadata": {},
   "outputs": [
    {
     "data": {
      "text/plain": [
       "1.0    180\n",
       "2.0    120\n",
       "Name: 1, dtype: int64"
      ]
     },
     "execution_count": 12,
     "metadata": {},
     "output_type": "execute_result"
    }
   ],
   "source": [
    "df_small[1].value_counts()"
   ]
  },
  {
   "cell_type": "code",
   "execution_count": 13,
   "metadata": {
    "scrolled": true
   },
   "outputs": [
    {
     "name": "stdout",
     "output_type": "stream",
     "text": [
      "Процентное соотношение прооперированных к общему числу осмотренных: 60.0 %\n"
     ]
    }
   ],
   "source": [
    "print('Процентное соотношение прооперированных к общему числу осмотренных:', 180 / 300 * 100, '%')"
   ]
  },
  {
   "cell_type": "markdown",
   "metadata": {},
   "source": [
    "### 2. 4 - Rectal temperature"
   ]
  },
  {
   "cell_type": "code",
   "execution_count": 14,
   "metadata": {},
   "outputs": [
    {
     "data": {
      "text/plain": [
       "['Rectal temperature',\n",
       " '- linear',\n",
       " '- in degrees celsius.',\n",
       " '- An elevated temp may occur due to infection.',\n",
       " '- temperature may be reduced when the animal is in late shock',\n",
       " '- normal temp is 37.8',\n",
       " '- this parameter will usually change as the problem progresses',\n",
       " 'eg. may start out normal, then become elevated because of',\n",
       " 'the lesion, passing back through the normal range as the',\n",
       " 'horse goes into shock']"
      ]
     },
     "execution_count": 14,
     "metadata": {},
     "output_type": "execute_result"
    }
   ],
   "source": [
    "Attribute_Information_dict[4]"
   ]
  },
  {
   "cell_type": "markdown",
   "metadata": {},
   "source": [
    "#### В столбце Rectal temperature видим много пропусков, можно их выделить и изучить отдельно"
   ]
  },
  {
   "cell_type": "code",
   "execution_count": 15,
   "metadata": {
    "scrolled": true
   },
   "outputs": [
    {
     "data": {
      "text/plain": [
       "38.0    152\n",
       "0.0      60\n",
       "39.0     47\n",
       "37.0     24\n",
       "40.0     10\n",
       "36.0      5\n",
       "41.0      1\n",
       "35.0      1\n",
       "Name: 4, dtype: int64"
      ]
     },
     "execution_count": 15,
     "metadata": {},
     "output_type": "execute_result"
    }
   ],
   "source": [
    "df_small[4].round().value_counts()"
   ]
  },
  {
   "cell_type": "markdown",
   "metadata": {},
   "source": [
    "#### Изучая этот маленький фрейм видим, что у этих 4-х с температурой выше 40: повышенный пульс, замедлена работа кишечника (12)"
   ]
  },
  {
   "cell_type": "code",
   "execution_count": 16,
   "metadata": {},
   "outputs": [
    {
     "data": {
      "text/html": [
       "<div>\n",
       "<style scoped>\n",
       "    .dataframe tbody tr th:only-of-type {\n",
       "        vertical-align: middle;\n",
       "    }\n",
       "\n",
       "    .dataframe tbody tr th {\n",
       "        vertical-align: top;\n",
       "    }\n",
       "\n",
       "    .dataframe thead th {\n",
       "        text-align: right;\n",
       "    }\n",
       "</style>\n",
       "<table border=\"1\" class=\"dataframe\">\n",
       "  <thead>\n",
       "    <tr style=\"text-align: right;\">\n",
       "      <th></th>\n",
       "      <th>1</th>\n",
       "      <th>4</th>\n",
       "      <th>5</th>\n",
       "      <th>12</th>\n",
       "      <th>13</th>\n",
       "      <th>18</th>\n",
       "      <th>23</th>\n",
       "      <th>24</th>\n",
       "    </tr>\n",
       "  </thead>\n",
       "  <tbody>\n",
       "    <tr>\n",
       "      <th>54</th>\n",
       "      <td>2.0</td>\n",
       "      <td>40.3</td>\n",
       "      <td>114.0</td>\n",
       "      <td>3.0</td>\n",
       "      <td>3.0</td>\n",
       "      <td>5.0</td>\n",
       "      <td>3.0</td>\n",
       "      <td>1.0</td>\n",
       "    </tr>\n",
       "    <tr>\n",
       "      <th>91</th>\n",
       "      <td>2.0</td>\n",
       "      <td>40.3</td>\n",
       "      <td>114.0</td>\n",
       "      <td>3.0</td>\n",
       "      <td>3.0</td>\n",
       "      <td>5.0</td>\n",
       "      <td>2.0</td>\n",
       "      <td>1.0</td>\n",
       "    </tr>\n",
       "    <tr>\n",
       "      <th>259</th>\n",
       "      <td>1.0</td>\n",
       "      <td>40.8</td>\n",
       "      <td>72.0</td>\n",
       "      <td>3.0</td>\n",
       "      <td>1.0</td>\n",
       "      <td>0.0</td>\n",
       "      <td>2.0</td>\n",
       "      <td>1.0</td>\n",
       "    </tr>\n",
       "    <tr>\n",
       "      <th>281</th>\n",
       "      <td>2.0</td>\n",
       "      <td>40.0</td>\n",
       "      <td>78.0</td>\n",
       "      <td>3.0</td>\n",
       "      <td>1.0</td>\n",
       "      <td>1.0</td>\n",
       "      <td>2.0</td>\n",
       "      <td>1.0</td>\n",
       "    </tr>\n",
       "  </tbody>\n",
       "</table>\n",
       "</div>"
      ],
      "text/plain": [
       "      1     4      5    12   13   18   23   24\n",
       "54   2.0  40.3  114.0  3.0  3.0  5.0  3.0  1.0\n",
       "91   2.0  40.3  114.0  3.0  3.0  5.0  2.0  1.0\n",
       "259  1.0  40.8   72.0  3.0  1.0  0.0  2.0  1.0\n",
       "281  2.0  40.0   78.0  3.0  1.0  1.0  2.0  1.0"
      ]
     },
     "execution_count": 16,
     "metadata": {},
     "output_type": "execute_result"
    }
   ],
   "source": [
    "df_small[df_small[4] > 39.9] # видимо, начиная с 40 градусов и выше не выживают"
   ]
  },
  {
   "cell_type": "code",
   "execution_count": 17,
   "metadata": {},
   "outputs": [],
   "source": [
    "# Ок, тогда для тех, у кого нет данных о температуре и их постиг летальный исход:\n",
    "# принимаем повышенную температуру 40.23 (ссылка на столбец 23)\n",
    "\n",
    "df_small.loc[(df_small[4] == 0) & (df_small[23].isin([2, 3])), [4]] = 40.23"
   ]
  },
  {
   "cell_type": "markdown",
   "metadata": {},
   "source": [
    "#### Известно, что нарушение работы кишечника с большой вероятностью может стать причиной интоксикации организма и привести к повышению температуры."
   ]
  },
  {
   "cell_type": "code",
   "execution_count": 18,
   "metadata": {},
   "outputs": [
    {
     "data": {
      "text/html": [
       "<div>\n",
       "<style scoped>\n",
       "    .dataframe tbody tr th:only-of-type {\n",
       "        vertical-align: middle;\n",
       "    }\n",
       "\n",
       "    .dataframe tbody tr th {\n",
       "        vertical-align: top;\n",
       "    }\n",
       "\n",
       "    .dataframe thead th {\n",
       "        text-align: right;\n",
       "    }\n",
       "</style>\n",
       "<table border=\"1\" class=\"dataframe\">\n",
       "  <thead>\n",
       "    <tr style=\"text-align: right;\">\n",
       "      <th></th>\n",
       "      <th>1</th>\n",
       "      <th>4</th>\n",
       "      <th>5</th>\n",
       "      <th>12</th>\n",
       "      <th>13</th>\n",
       "      <th>18</th>\n",
       "      <th>23</th>\n",
       "      <th>24</th>\n",
       "    </tr>\n",
       "  </thead>\n",
       "  <tbody>\n",
       "    <tr>\n",
       "      <th>5</th>\n",
       "      <td>2.0</td>\n",
       "      <td>0.0</td>\n",
       "      <td>0.0</td>\n",
       "      <td>3.0</td>\n",
       "      <td>2.0</td>\n",
       "      <td>3.0</td>\n",
       "      <td>1.0</td>\n",
       "      <td>2.0</td>\n",
       "    </tr>\n",
       "    <tr>\n",
       "      <th>34</th>\n",
       "      <td>1.0</td>\n",
       "      <td>0.0</td>\n",
       "      <td>100.0</td>\n",
       "      <td>4.0</td>\n",
       "      <td>4.0</td>\n",
       "      <td>4.0</td>\n",
       "      <td>1.0</td>\n",
       "      <td>1.0</td>\n",
       "    </tr>\n",
       "    <tr>\n",
       "      <th>52</th>\n",
       "      <td>2.0</td>\n",
       "      <td>0.0</td>\n",
       "      <td>0.0</td>\n",
       "      <td>3.0</td>\n",
       "      <td>1.0</td>\n",
       "      <td>2.0</td>\n",
       "      <td>1.0</td>\n",
       "      <td>2.0</td>\n",
       "    </tr>\n",
       "    <tr>\n",
       "      <th>65</th>\n",
       "      <td>1.0</td>\n",
       "      <td>0.0</td>\n",
       "      <td>60.0</td>\n",
       "      <td>3.0</td>\n",
       "      <td>2.0</td>\n",
       "      <td>4.0</td>\n",
       "      <td>1.0</td>\n",
       "      <td>1.0</td>\n",
       "    </tr>\n",
       "    <tr>\n",
       "      <th>96</th>\n",
       "      <td>2.0</td>\n",
       "      <td>0.0</td>\n",
       "      <td>84.0</td>\n",
       "      <td>3.0</td>\n",
       "      <td>1.0</td>\n",
       "      <td>2.0</td>\n",
       "      <td>1.0</td>\n",
       "      <td>1.0</td>\n",
       "    </tr>\n",
       "    <tr>\n",
       "      <th>105</th>\n",
       "      <td>1.0</td>\n",
       "      <td>0.0</td>\n",
       "      <td>70.0</td>\n",
       "      <td>3.0</td>\n",
       "      <td>2.0</td>\n",
       "      <td>5.0</td>\n",
       "      <td>1.0</td>\n",
       "      <td>1.0</td>\n",
       "    </tr>\n",
       "    <tr>\n",
       "      <th>112</th>\n",
       "      <td>1.0</td>\n",
       "      <td>0.0</td>\n",
       "      <td>40.0</td>\n",
       "      <td>3.0</td>\n",
       "      <td>1.0</td>\n",
       "      <td>5.0</td>\n",
       "      <td>1.0</td>\n",
       "      <td>1.0</td>\n",
       "    </tr>\n",
       "    <tr>\n",
       "      <th>115</th>\n",
       "      <td>2.0</td>\n",
       "      <td>0.0</td>\n",
       "      <td>0.0</td>\n",
       "      <td>3.0</td>\n",
       "      <td>2.0</td>\n",
       "      <td>0.0</td>\n",
       "      <td>1.0</td>\n",
       "      <td>2.0</td>\n",
       "    </tr>\n",
       "    <tr>\n",
       "      <th>145</th>\n",
       "      <td>2.0</td>\n",
       "      <td>0.0</td>\n",
       "      <td>80.0</td>\n",
       "      <td>3.0</td>\n",
       "      <td>3.0</td>\n",
       "      <td>0.0</td>\n",
       "      <td>1.0</td>\n",
       "      <td>1.0</td>\n",
       "    </tr>\n",
       "    <tr>\n",
       "      <th>152</th>\n",
       "      <td>1.0</td>\n",
       "      <td>0.0</td>\n",
       "      <td>100.0</td>\n",
       "      <td>4.0</td>\n",
       "      <td>4.0</td>\n",
       "      <td>0.0</td>\n",
       "      <td>1.0</td>\n",
       "      <td>1.0</td>\n",
       "    </tr>\n",
       "    <tr>\n",
       "      <th>167</th>\n",
       "      <td>2.0</td>\n",
       "      <td>0.0</td>\n",
       "      <td>44.0</td>\n",
       "      <td>3.0</td>\n",
       "      <td>1.0</td>\n",
       "      <td>1.0</td>\n",
       "      <td>1.0</td>\n",
       "      <td>2.0</td>\n",
       "    </tr>\n",
       "    <tr>\n",
       "      <th>178</th>\n",
       "      <td>1.0</td>\n",
       "      <td>0.0</td>\n",
       "      <td>60.0</td>\n",
       "      <td>4.0</td>\n",
       "      <td>4.0</td>\n",
       "      <td>0.0</td>\n",
       "      <td>1.0</td>\n",
       "      <td>1.0</td>\n",
       "    </tr>\n",
       "    <tr>\n",
       "      <th>219</th>\n",
       "      <td>1.0</td>\n",
       "      <td>0.0</td>\n",
       "      <td>52.0</td>\n",
       "      <td>4.0</td>\n",
       "      <td>3.0</td>\n",
       "      <td>4.0</td>\n",
       "      <td>1.0</td>\n",
       "      <td>1.0</td>\n",
       "    </tr>\n",
       "    <tr>\n",
       "      <th>222</th>\n",
       "      <td>1.0</td>\n",
       "      <td>0.0</td>\n",
       "      <td>112.0</td>\n",
       "      <td>3.0</td>\n",
       "      <td>1.0</td>\n",
       "      <td>4.0</td>\n",
       "      <td>1.0</td>\n",
       "      <td>1.0</td>\n",
       "    </tr>\n",
       "    <tr>\n",
       "      <th>253</th>\n",
       "      <td>2.0</td>\n",
       "      <td>0.0</td>\n",
       "      <td>112.0</td>\n",
       "      <td>4.0</td>\n",
       "      <td>2.0</td>\n",
       "      <td>0.0</td>\n",
       "      <td>1.0</td>\n",
       "      <td>2.0</td>\n",
       "    </tr>\n",
       "    <tr>\n",
       "      <th>254</th>\n",
       "      <td>1.0</td>\n",
       "      <td>0.0</td>\n",
       "      <td>80.0</td>\n",
       "      <td>4.0</td>\n",
       "      <td>4.0</td>\n",
       "      <td>5.0</td>\n",
       "      <td>1.0</td>\n",
       "      <td>1.0</td>\n",
       "    </tr>\n",
       "    <tr>\n",
       "      <th>272</th>\n",
       "      <td>1.0</td>\n",
       "      <td>0.0</td>\n",
       "      <td>100.0</td>\n",
       "      <td>4.0</td>\n",
       "      <td>4.0</td>\n",
       "      <td>4.0</td>\n",
       "      <td>1.0</td>\n",
       "      <td>1.0</td>\n",
       "    </tr>\n",
       "  </tbody>\n",
       "</table>\n",
       "</div>"
      ],
      "text/plain": [
       "      1    4      5    12   13   18   23   24\n",
       "5    2.0  0.0    0.0  3.0  2.0  3.0  1.0  2.0\n",
       "34   1.0  0.0  100.0  4.0  4.0  4.0  1.0  1.0\n",
       "52   2.0  0.0    0.0  3.0  1.0  2.0  1.0  2.0\n",
       "65   1.0  0.0   60.0  3.0  2.0  4.0  1.0  1.0\n",
       "96   2.0  0.0   84.0  3.0  1.0  2.0  1.0  1.0\n",
       "105  1.0  0.0   70.0  3.0  2.0  5.0  1.0  1.0\n",
       "112  1.0  0.0   40.0  3.0  1.0  5.0  1.0  1.0\n",
       "115  2.0  0.0    0.0  3.0  2.0  0.0  1.0  2.0\n",
       "145  2.0  0.0   80.0  3.0  3.0  0.0  1.0  1.0\n",
       "152  1.0  0.0  100.0  4.0  4.0  0.0  1.0  1.0\n",
       "167  2.0  0.0   44.0  3.0  1.0  1.0  1.0  2.0\n",
       "178  1.0  0.0   60.0  4.0  4.0  0.0  1.0  1.0\n",
       "219  1.0  0.0   52.0  4.0  3.0  4.0  1.0  1.0\n",
       "222  1.0  0.0  112.0  3.0  1.0  4.0  1.0  1.0\n",
       "253  2.0  0.0  112.0  4.0  2.0  0.0  1.0  2.0\n",
       "254  1.0  0.0   80.0  4.0  4.0  5.0  1.0  1.0\n",
       "272  1.0  0.0  100.0  4.0  4.0  4.0  1.0  1.0"
      ]
     },
     "execution_count": 18,
     "metadata": {},
     "output_type": "execute_result"
    }
   ],
   "source": [
    "# Находим тех, у кого нет данных о температуре и работа пищеварительной системы замедлена или отсутствует.\n",
    "    \n",
    "df_small[(df_small[4] == 0) & ((df_small[12] == 3)|(df_small[12] == 4))]"
   ]
  },
  {
   "cell_type": "code",
   "execution_count": 19,
   "metadata": {},
   "outputs": [],
   "source": [
    "# И так, тем, у кого нет данных о температуре, работа пищеварительной системы замедлена или отсутствует:\n",
    "# дадим 38.12 - умеренно повышенную со ссылкой на столбец 12\n",
    "\n",
    "df_small.loc[(df_small[4] == 0.0) & ((df_small[12] == 3)|(df_small[12] == 4)), [4]] = 38.12"
   ]
  },
  {
   "cell_type": "code",
   "execution_count": 20,
   "metadata": {},
   "outputs": [
    {
     "data": {
      "text/html": [
       "<div>\n",
       "<style scoped>\n",
       "    .dataframe tbody tr th:only-of-type {\n",
       "        vertical-align: middle;\n",
       "    }\n",
       "\n",
       "    .dataframe tbody tr th {\n",
       "        vertical-align: top;\n",
       "    }\n",
       "\n",
       "    .dataframe thead th {\n",
       "        text-align: right;\n",
       "    }\n",
       "</style>\n",
       "<table border=\"1\" class=\"dataframe\">\n",
       "  <thead>\n",
       "    <tr style=\"text-align: right;\">\n",
       "      <th></th>\n",
       "      <th>1</th>\n",
       "      <th>4</th>\n",
       "      <th>5</th>\n",
       "      <th>12</th>\n",
       "      <th>13</th>\n",
       "      <th>18</th>\n",
       "      <th>23</th>\n",
       "      <th>24</th>\n",
       "    </tr>\n",
       "  </thead>\n",
       "  <tbody>\n",
       "    <tr>\n",
       "      <th>56</th>\n",
       "      <td>1.0</td>\n",
       "      <td>0.0</td>\n",
       "      <td>0.0</td>\n",
       "      <td>0.0</td>\n",
       "      <td>0.0</td>\n",
       "      <td>0.0</td>\n",
       "      <td>1.0</td>\n",
       "      <td>1.0</td>\n",
       "    </tr>\n",
       "    <tr>\n",
       "      <th>68</th>\n",
       "      <td>2.0</td>\n",
       "      <td>0.0</td>\n",
       "      <td>52.0</td>\n",
       "      <td>0.0</td>\n",
       "      <td>0.0</td>\n",
       "      <td>0.0</td>\n",
       "      <td>1.0</td>\n",
       "      <td>2.0</td>\n",
       "    </tr>\n",
       "    <tr>\n",
       "      <th>159</th>\n",
       "      <td>2.0</td>\n",
       "      <td>0.0</td>\n",
       "      <td>0.0</td>\n",
       "      <td>1.0</td>\n",
       "      <td>2.0</td>\n",
       "      <td>3.0</td>\n",
       "      <td>1.0</td>\n",
       "      <td>2.0</td>\n",
       "    </tr>\n",
       "    <tr>\n",
       "      <th>160</th>\n",
       "      <td>1.0</td>\n",
       "      <td>0.0</td>\n",
       "      <td>0.0</td>\n",
       "      <td>0.0</td>\n",
       "      <td>0.0</td>\n",
       "      <td>5.0</td>\n",
       "      <td>1.0</td>\n",
       "      <td>1.0</td>\n",
       "    </tr>\n",
       "    <tr>\n",
       "      <th>175</th>\n",
       "      <td>1.0</td>\n",
       "      <td>0.0</td>\n",
       "      <td>0.0</td>\n",
       "      <td>0.0</td>\n",
       "      <td>0.0</td>\n",
       "      <td>0.0</td>\n",
       "      <td>1.0</td>\n",
       "      <td>1.0</td>\n",
       "    </tr>\n",
       "    <tr>\n",
       "      <th>191</th>\n",
       "      <td>2.0</td>\n",
       "      <td>0.0</td>\n",
       "      <td>100.0</td>\n",
       "      <td>1.0</td>\n",
       "      <td>1.0</td>\n",
       "      <td>0.0</td>\n",
       "      <td>1.0</td>\n",
       "      <td>2.0</td>\n",
       "    </tr>\n",
       "    <tr>\n",
       "      <th>216</th>\n",
       "      <td>2.0</td>\n",
       "      <td>0.0</td>\n",
       "      <td>0.0</td>\n",
       "      <td>0.0</td>\n",
       "      <td>0.0</td>\n",
       "      <td>0.0</td>\n",
       "      <td>1.0</td>\n",
       "      <td>2.0</td>\n",
       "    </tr>\n",
       "    <tr>\n",
       "      <th>227</th>\n",
       "      <td>1.0</td>\n",
       "      <td>0.0</td>\n",
       "      <td>0.0</td>\n",
       "      <td>0.0</td>\n",
       "      <td>0.0</td>\n",
       "      <td>0.0</td>\n",
       "      <td>1.0</td>\n",
       "      <td>1.0</td>\n",
       "    </tr>\n",
       "    <tr>\n",
       "      <th>288</th>\n",
       "      <td>1.0</td>\n",
       "      <td>0.0</td>\n",
       "      <td>0.0</td>\n",
       "      <td>0.0</td>\n",
       "      <td>0.0</td>\n",
       "      <td>0.0</td>\n",
       "      <td>1.0</td>\n",
       "      <td>1.0</td>\n",
       "    </tr>\n",
       "  </tbody>\n",
       "</table>\n",
       "</div>"
      ],
      "text/plain": [
       "      1    4      5    12   13   18   23   24\n",
       "56   1.0  0.0    0.0  0.0  0.0  0.0  1.0  1.0\n",
       "68   2.0  0.0   52.0  0.0  0.0  0.0  1.0  2.0\n",
       "159  2.0  0.0    0.0  1.0  2.0  3.0  1.0  2.0\n",
       "160  1.0  0.0    0.0  0.0  0.0  5.0  1.0  1.0\n",
       "175  1.0  0.0    0.0  0.0  0.0  0.0  1.0  1.0\n",
       "191  2.0  0.0  100.0  1.0  1.0  0.0  1.0  2.0\n",
       "216  2.0  0.0    0.0  0.0  0.0  0.0  1.0  2.0\n",
       "227  1.0  0.0    0.0  0.0  0.0  0.0  1.0  1.0\n",
       "288  1.0  0.0    0.0  0.0  0.0  0.0  1.0  1.0"
      ]
     },
     "execution_count": 20,
     "metadata": {},
     "output_type": "execute_result"
    }
   ],
   "source": [
    "# Остаётся вот что\n",
    "df_small[df_small[4] == 0]"
   ]
  },
  {
   "cell_type": "code",
   "execution_count": 21,
   "metadata": {},
   "outputs": [
    {
     "data": {
      "text/html": [
       "<div>\n",
       "<style scoped>\n",
       "    .dataframe tbody tr th:only-of-type {\n",
       "        vertical-align: middle;\n",
       "    }\n",
       "\n",
       "    .dataframe tbody tr th {\n",
       "        vertical-align: top;\n",
       "    }\n",
       "\n",
       "    .dataframe thead th {\n",
       "        text-align: right;\n",
       "    }\n",
       "</style>\n",
       "<table border=\"1\" class=\"dataframe\">\n",
       "  <thead>\n",
       "    <tr style=\"text-align: right;\">\n",
       "      <th></th>\n",
       "      <th>1</th>\n",
       "      <th>4</th>\n",
       "      <th>5</th>\n",
       "      <th>12</th>\n",
       "      <th>13</th>\n",
       "      <th>18</th>\n",
       "      <th>23</th>\n",
       "      <th>24</th>\n",
       "    </tr>\n",
       "  </thead>\n",
       "  <tbody>\n",
       "    <tr>\n",
       "      <th>0</th>\n",
       "      <td>2.0</td>\n",
       "      <td>38.50</td>\n",
       "      <td>66.0</td>\n",
       "      <td>4.0</td>\n",
       "      <td>4.0</td>\n",
       "      <td>5.0</td>\n",
       "      <td>2.0</td>\n",
       "      <td>2.0</td>\n",
       "    </tr>\n",
       "    <tr>\n",
       "      <th>1</th>\n",
       "      <td>1.0</td>\n",
       "      <td>39.20</td>\n",
       "      <td>88.0</td>\n",
       "      <td>4.0</td>\n",
       "      <td>2.0</td>\n",
       "      <td>2.0</td>\n",
       "      <td>3.0</td>\n",
       "      <td>2.0</td>\n",
       "    </tr>\n",
       "    <tr>\n",
       "      <th>2</th>\n",
       "      <td>2.0</td>\n",
       "      <td>38.30</td>\n",
       "      <td>40.0</td>\n",
       "      <td>3.0</td>\n",
       "      <td>1.0</td>\n",
       "      <td>1.0</td>\n",
       "      <td>1.0</td>\n",
       "      <td>2.0</td>\n",
       "    </tr>\n",
       "    <tr>\n",
       "      <th>3</th>\n",
       "      <td>1.0</td>\n",
       "      <td>39.10</td>\n",
       "      <td>164.0</td>\n",
       "      <td>4.0</td>\n",
       "      <td>4.0</td>\n",
       "      <td>0.0</td>\n",
       "      <td>2.0</td>\n",
       "      <td>1.0</td>\n",
       "    </tr>\n",
       "    <tr>\n",
       "      <th>4</th>\n",
       "      <td>2.0</td>\n",
       "      <td>37.30</td>\n",
       "      <td>104.0</td>\n",
       "      <td>0.0</td>\n",
       "      <td>0.0</td>\n",
       "      <td>0.0</td>\n",
       "      <td>2.0</td>\n",
       "      <td>2.0</td>\n",
       "    </tr>\n",
       "    <tr>\n",
       "      <th>...</th>\n",
       "      <td>...</td>\n",
       "      <td>...</td>\n",
       "      <td>...</td>\n",
       "      <td>...</td>\n",
       "      <td>...</td>\n",
       "      <td>...</td>\n",
       "      <td>...</td>\n",
       "      <td>...</td>\n",
       "    </tr>\n",
       "    <tr>\n",
       "      <th>295</th>\n",
       "      <td>1.0</td>\n",
       "      <td>40.23</td>\n",
       "      <td>120.0</td>\n",
       "      <td>4.0</td>\n",
       "      <td>0.0</td>\n",
       "      <td>5.0</td>\n",
       "      <td>3.0</td>\n",
       "      <td>2.0</td>\n",
       "    </tr>\n",
       "    <tr>\n",
       "      <th>296</th>\n",
       "      <td>2.0</td>\n",
       "      <td>37.20</td>\n",
       "      <td>72.0</td>\n",
       "      <td>3.0</td>\n",
       "      <td>3.0</td>\n",
       "      <td>4.0</td>\n",
       "      <td>3.0</td>\n",
       "      <td>1.0</td>\n",
       "    </tr>\n",
       "    <tr>\n",
       "      <th>297</th>\n",
       "      <td>1.0</td>\n",
       "      <td>37.50</td>\n",
       "      <td>72.0</td>\n",
       "      <td>4.0</td>\n",
       "      <td>3.0</td>\n",
       "      <td>5.0</td>\n",
       "      <td>2.0</td>\n",
       "      <td>1.0</td>\n",
       "    </tr>\n",
       "    <tr>\n",
       "      <th>298</th>\n",
       "      <td>1.0</td>\n",
       "      <td>36.50</td>\n",
       "      <td>100.0</td>\n",
       "      <td>3.0</td>\n",
       "      <td>3.0</td>\n",
       "      <td>4.0</td>\n",
       "      <td>1.0</td>\n",
       "      <td>1.0</td>\n",
       "    </tr>\n",
       "    <tr>\n",
       "      <th>299</th>\n",
       "      <td>1.0</td>\n",
       "      <td>37.20</td>\n",
       "      <td>40.0</td>\n",
       "      <td>0.0</td>\n",
       "      <td>0.0</td>\n",
       "      <td>1.0</td>\n",
       "      <td>3.0</td>\n",
       "      <td>2.0</td>\n",
       "    </tr>\n",
       "  </tbody>\n",
       "</table>\n",
       "<p>290 rows × 8 columns</p>\n",
       "</div>"
      ],
      "text/plain": [
       "      1      4      5    12   13   18   23   24\n",
       "0    2.0  38.50   66.0  4.0  4.0  5.0  2.0  2.0\n",
       "1    1.0  39.20   88.0  4.0  2.0  2.0  3.0  2.0\n",
       "2    2.0  38.30   40.0  3.0  1.0  1.0  1.0  2.0\n",
       "3    1.0  39.10  164.0  4.0  4.0  0.0  2.0  1.0\n",
       "4    2.0  37.30  104.0  0.0  0.0  0.0  2.0  2.0\n",
       "..   ...    ...    ...  ...  ...  ...  ...  ...\n",
       "295  1.0  40.23  120.0  4.0  0.0  5.0  3.0  2.0\n",
       "296  2.0  37.20   72.0  3.0  3.0  4.0  3.0  1.0\n",
       "297  1.0  37.50   72.0  4.0  3.0  5.0  2.0  1.0\n",
       "298  1.0  36.50  100.0  3.0  3.0  4.0  1.0  1.0\n",
       "299  1.0  37.20   40.0  0.0  0.0  1.0  3.0  2.0\n",
       "\n",
       "[290 rows x 8 columns]"
      ]
     },
     "execution_count": 21,
     "metadata": {},
     "output_type": "execute_result"
    }
   ],
   "source": [
    "# Выбросим строчки с пропусками данных \n",
    "df_small = df_small.replace(0, np.NaN).dropna(thresh=5)\n",
    "df_small = df_small.replace(np.NaN, 0)\n",
    "df_small"
   ]
  },
  {
   "cell_type": "code",
   "execution_count": 22,
   "metadata": {},
   "outputs": [
    {
     "data": {
      "text/html": [
       "<div>\n",
       "<style scoped>\n",
       "    .dataframe tbody tr th:only-of-type {\n",
       "        vertical-align: middle;\n",
       "    }\n",
       "\n",
       "    .dataframe tbody tr th {\n",
       "        vertical-align: top;\n",
       "    }\n",
       "\n",
       "    .dataframe thead th {\n",
       "        text-align: right;\n",
       "    }\n",
       "</style>\n",
       "<table border=\"1\" class=\"dataframe\">\n",
       "  <thead>\n",
       "    <tr style=\"text-align: right;\">\n",
       "      <th></th>\n",
       "      <th>1</th>\n",
       "      <th>4</th>\n",
       "      <th>5</th>\n",
       "      <th>12</th>\n",
       "      <th>13</th>\n",
       "      <th>18</th>\n",
       "      <th>23</th>\n",
       "      <th>24</th>\n",
       "    </tr>\n",
       "  </thead>\n",
       "  <tbody>\n",
       "    <tr>\n",
       "      <th>159</th>\n",
       "      <td>2.0</td>\n",
       "      <td>0.0</td>\n",
       "      <td>0.0</td>\n",
       "      <td>1.0</td>\n",
       "      <td>2.0</td>\n",
       "      <td>3.0</td>\n",
       "      <td>1.0</td>\n",
       "      <td>2.0</td>\n",
       "    </tr>\n",
       "    <tr>\n",
       "      <th>191</th>\n",
       "      <td>2.0</td>\n",
       "      <td>0.0</td>\n",
       "      <td>100.0</td>\n",
       "      <td>1.0</td>\n",
       "      <td>1.0</td>\n",
       "      <td>0.0</td>\n",
       "      <td>1.0</td>\n",
       "      <td>2.0</td>\n",
       "    </tr>\n",
       "  </tbody>\n",
       "</table>\n",
       "</div>"
      ],
      "text/plain": [
       "      1    4      5    12   13   18   23   24\n",
       "159  2.0  0.0    0.0  1.0  2.0  3.0  1.0  2.0\n",
       "191  2.0  0.0  100.0  1.0  1.0  0.0  1.0  2.0"
      ]
     },
     "execution_count": 22,
     "metadata": {},
     "output_type": "execute_result"
    }
   ],
   "source": [
    "df_small[df_small[4] == 0]"
   ]
  },
  {
   "cell_type": "code",
   "execution_count": 23,
   "metadata": {},
   "outputs": [],
   "source": [
    "# Оставшиеся заполним 37.77 - близко к норме, но если попадутся на глаза будем понимать, что это предположение\n",
    "df_small.loc[df_small[4] == 0, [4]] = 37.77"
   ]
  },
  {
   "cell_type": "code",
   "execution_count": 24,
   "metadata": {
    "scrolled": false
   },
   "outputs": [
    {
     "data": {
      "text/plain": [
       "40.23    31\n",
       "38.00    26\n",
       "38.50    19\n",
       "38.30    18\n",
       "37.80    17\n",
       "38.12    17\n",
       "38.20    16\n",
       "38.60    12\n",
       "37.50    12\n",
       "38.10    12\n",
       "Name: 4, dtype: int64"
      ]
     },
     "execution_count": 24,
     "metadata": {},
     "output_type": "execute_result"
    }
   ],
   "source": [
    "df_small[4].value_counts().head(10)"
   ]
  },
  {
   "cell_type": "code",
   "execution_count": 25,
   "metadata": {},
   "outputs": [
    {
     "data": {
      "text/plain": [
       "40.8"
      ]
     },
     "execution_count": 25,
     "metadata": {},
     "output_type": "execute_result"
    }
   ],
   "source": [
    "df_small[4].max()"
   ]
  },
  {
   "cell_type": "code",
   "execution_count": 26,
   "metadata": {},
   "outputs": [
    {
     "data": {
      "text/plain": [
       "35.4"
      ]
     },
     "execution_count": 26,
     "metadata": {},
     "output_type": "execute_result"
    }
   ],
   "source": [
    "df_small[4].astype(float).min()"
   ]
  },
  {
   "cell_type": "code",
   "execution_count": 27,
   "metadata": {
    "scrolled": true
   },
   "outputs": [
    {
     "data": {
      "text/plain": [
       "0    38.0\n",
       "dtype: float64"
      ]
     },
     "execution_count": 27,
     "metadata": {},
     "output_type": "execute_result"
    }
   ],
   "source": [
    "df_small[4].astype(float).round().mode() # округляем до целых чисел и видим, что мода на норме"
   ]
  },
  {
   "cell_type": "code",
   "execution_count": 28,
   "metadata": {},
   "outputs": [
    {
     "data": {
      "text/plain": [
       "38.2"
      ]
     },
     "execution_count": 28,
     "metadata": {},
     "output_type": "execute_result"
    }
   ],
   "source": [
    "df_small[4].median()"
   ]
  },
  {
   "cell_type": "markdown",
   "metadata": {},
   "source": [
    "#### Принимаем, что выбросы по температуре не встретились."
   ]
  },
  {
   "cell_type": "markdown",
   "metadata": {},
   "source": [
    "### 3. 5 - pulse"
   ]
  },
  {
   "cell_type": "code",
   "execution_count": 29,
   "metadata": {},
   "outputs": [
    {
     "data": {
      "text/plain": [
       "['pulse',\n",
       " '- linear',\n",
       " '- the heart rate in beats per minute',\n",
       " '- is a reflection of the heart condition: 30 -40 is normal for adults',\n",
       " '- rare to have a lower than normal rate although athletic horses',\n",
       " 'may have a rate of 20-25',\n",
       " '- animals with painful lesions or suffering from circulatory shock',\n",
       " 'may have an elevated heart rate']"
      ]
     },
     "execution_count": 29,
     "metadata": {},
     "output_type": "execute_result"
    }
   ],
   "source": [
    "Attribute_Information_dict[5]"
   ]
  },
  {
   "cell_type": "markdown",
   "metadata": {},
   "source": [
    "#### По аналогии с температурой попробуем определить смертельный порог"
   ]
  },
  {
   "cell_type": "code",
   "execution_count": 30,
   "metadata": {},
   "outputs": [
    {
     "data": {
      "text/plain": [
       "2.0    13\n",
       "1.0    11\n",
       "3.0     7\n",
       "Name: 23, dtype: int64"
      ]
     },
     "execution_count": 30,
     "metadata": {},
     "output_type": "execute_result"
    }
   ],
   "source": [
    "df_small[df_small[5] > 110][23].value_counts()"
   ]
  },
  {
   "cell_type": "code",
   "execution_count": 31,
   "metadata": {},
   "outputs": [],
   "source": [
    "# У кого нет данных и их постиг летальный исход: принимаем 120\n",
    "df_small.loc[(df_small[5] == 0) & (df_small[23].isin([2,3])), [5]] = 120"
   ]
  },
  {
   "cell_type": "code",
   "execution_count": 32,
   "metadata": {},
   "outputs": [
    {
     "data": {
      "text/html": [
       "<div>\n",
       "<style scoped>\n",
       "    .dataframe tbody tr th:only-of-type {\n",
       "        vertical-align: middle;\n",
       "    }\n",
       "\n",
       "    .dataframe tbody tr th {\n",
       "        vertical-align: top;\n",
       "    }\n",
       "\n",
       "    .dataframe thead th {\n",
       "        text-align: right;\n",
       "    }\n",
       "</style>\n",
       "<table border=\"1\" class=\"dataframe\">\n",
       "  <thead>\n",
       "    <tr style=\"text-align: right;\">\n",
       "      <th></th>\n",
       "      <th>1</th>\n",
       "      <th>4</th>\n",
       "      <th>5</th>\n",
       "      <th>12</th>\n",
       "      <th>13</th>\n",
       "      <th>18</th>\n",
       "      <th>23</th>\n",
       "      <th>24</th>\n",
       "    </tr>\n",
       "  </thead>\n",
       "  <tbody>\n",
       "    <tr>\n",
       "      <th>5</th>\n",
       "      <td>2.0</td>\n",
       "      <td>38.12</td>\n",
       "      <td>0.0</td>\n",
       "      <td>3.0</td>\n",
       "      <td>2.0</td>\n",
       "      <td>3.0</td>\n",
       "      <td>1.0</td>\n",
       "      <td>2.0</td>\n",
       "    </tr>\n",
       "    <tr>\n",
       "      <th>52</th>\n",
       "      <td>2.0</td>\n",
       "      <td>38.12</td>\n",
       "      <td>0.0</td>\n",
       "      <td>3.0</td>\n",
       "      <td>1.0</td>\n",
       "      <td>2.0</td>\n",
       "      <td>1.0</td>\n",
       "      <td>2.0</td>\n",
       "    </tr>\n",
       "    <tr>\n",
       "      <th>115</th>\n",
       "      <td>2.0</td>\n",
       "      <td>38.12</td>\n",
       "      <td>0.0</td>\n",
       "      <td>3.0</td>\n",
       "      <td>2.0</td>\n",
       "      <td>0.0</td>\n",
       "      <td>1.0</td>\n",
       "      <td>2.0</td>\n",
       "    </tr>\n",
       "    <tr>\n",
       "      <th>126</th>\n",
       "      <td>1.0</td>\n",
       "      <td>38.70</td>\n",
       "      <td>0.0</td>\n",
       "      <td>4.0</td>\n",
       "      <td>2.0</td>\n",
       "      <td>0.0</td>\n",
       "      <td>1.0</td>\n",
       "      <td>1.0</td>\n",
       "    </tr>\n",
       "    <tr>\n",
       "      <th>159</th>\n",
       "      <td>2.0</td>\n",
       "      <td>37.77</td>\n",
       "      <td>0.0</td>\n",
       "      <td>1.0</td>\n",
       "      <td>2.0</td>\n",
       "      <td>3.0</td>\n",
       "      <td>1.0</td>\n",
       "      <td>2.0</td>\n",
       "    </tr>\n",
       "    <tr>\n",
       "      <th>204</th>\n",
       "      <td>1.0</td>\n",
       "      <td>39.20</td>\n",
       "      <td>0.0</td>\n",
       "      <td>4.0</td>\n",
       "      <td>2.0</td>\n",
       "      <td>0.0</td>\n",
       "      <td>1.0</td>\n",
       "      <td>1.0</td>\n",
       "    </tr>\n",
       "  </tbody>\n",
       "</table>\n",
       "</div>"
      ],
      "text/plain": [
       "      1      4    5    12   13   18   23   24\n",
       "5    2.0  38.12  0.0  3.0  2.0  3.0  1.0  2.0\n",
       "52   2.0  38.12  0.0  3.0  1.0  2.0  1.0  2.0\n",
       "115  2.0  38.12  0.0  3.0  2.0  0.0  1.0  2.0\n",
       "126  1.0  38.70  0.0  4.0  2.0  0.0  1.0  1.0\n",
       "159  2.0  37.77  0.0  1.0  2.0  3.0  1.0  2.0\n",
       "204  1.0  39.20  0.0  4.0  2.0  0.0  1.0  1.0"
      ]
     },
     "execution_count": 32,
     "metadata": {},
     "output_type": "execute_result"
    }
   ],
   "source": [
    "# Остались выжившие и видно, что для большинства из низ дело обошлось без операции\n",
    "df_small[df_small[5] == 0]"
   ]
  },
  {
   "cell_type": "code",
   "execution_count": 33,
   "metadata": {},
   "outputs": [],
   "source": [
    "# Заполним модой\n",
    "df_small.loc[df_small[5] == 0, [5]] = df_small[5].mode()"
   ]
  },
  {
   "cell_type": "code",
   "execution_count": 34,
   "metadata": {},
   "outputs": [
    {
     "data": {
      "text/plain": [
       "65.5"
      ]
     },
     "execution_count": 34,
     "metadata": {},
     "output_type": "execute_result"
    }
   ],
   "source": [
    "df_small[5].median()"
   ]
  },
  {
   "cell_type": "code",
   "execution_count": 35,
   "metadata": {
    "scrolled": true
   },
   "outputs": [
    {
     "data": {
      "text/plain": [
       "184.0"
      ]
     },
     "execution_count": 35,
     "metadata": {},
     "output_type": "execute_result"
    }
   ],
   "source": [
    "df_small[5].max()"
   ]
  },
  {
   "cell_type": "code",
   "execution_count": 36,
   "metadata": {},
   "outputs": [
    {
     "data": {
      "text/plain": [
       "30.0"
      ]
     },
     "execution_count": 36,
     "metadata": {},
     "output_type": "execute_result"
    }
   ],
   "source": [
    "df_small[5].min()"
   ]
  },
  {
   "cell_type": "code",
   "execution_count": 37,
   "metadata": {},
   "outputs": [
    {
     "name": "stdout",
     "output_type": "stream",
     "text": [
      "Пульс в пределах нормы у 45\n"
     ]
    }
   ],
   "source": [
    "print('Пульс в пределах нормы у', len(df_small[(df_small[5] > 25) & (df_small[5] < 45)][5]))"
   ]
  },
  {
   "cell_type": "code",
   "execution_count": 38,
   "metadata": {},
   "outputs": [
    {
     "name": "stdout",
     "output_type": "stream",
     "text": [
      "Пульс выше нормы у 201\n"
     ]
    }
   ],
   "source": [
    "print('Пульс выше нормы у', len(df_small[(df_small[5] > 50)][5]))"
   ]
  },
  {
   "cell_type": "code",
   "execution_count": 39,
   "metadata": {},
   "outputs": [
    {
     "name": "stdout",
     "output_type": "stream",
     "text": [
      "Медиана по завышенным: 80.0 ударов в минуту.\n"
     ]
    }
   ],
   "source": [
    "print('Медиана по завышенным:', df_small[(df_small[5] > 50)][5].astype(int).median(), 'ударов в минуту.')"
   ]
  },
  {
   "cell_type": "code",
   "execution_count": 40,
   "metadata": {},
   "outputs": [
    {
     "name": "stdout",
     "output_type": "stream",
     "text": [
      "Мода по завышенным: 60.0 ударов в минуту.\n"
     ]
    }
   ],
   "source": [
    "print('Мода по завышенным:', df_small[(df_small[5] > 50)][5].mode()[0], 'ударов в минуту.')"
   ]
  },
  {
   "cell_type": "markdown",
   "metadata": {},
   "source": [
    "#### Принимаем, что здесь так же обошлось без выбросов (184 выглядит сильно высоким значением пульса для нормы в 30-40 ударов, но видно, как остальные значения плавно подбираются к этому максимуму: 140 - 150 - 160 - 164 - 184)"
   ]
  },
  {
   "cell_type": "markdown",
   "metadata": {},
   "source": [
    "### 5. 12 - peristalsis"
   ]
  },
  {
   "cell_type": "code",
   "execution_count": 41,
   "metadata": {},
   "outputs": [
    {
     "data": {
      "text/plain": [
       "['peristalsis',\n",
       " '- an indication of the activity in the horse\"s gut. As the gut',\n",
       " 'becomes more distended or the horse becomes more toxic, the',\n",
       " 'activity decreases',\n",
       " '- possible values:',\n",
       " '1 = hypermotile',\n",
       " '2 = normal',\n",
       " '3 = hypomotile',\n",
       " '4 = absent']"
      ]
     },
     "execution_count": 41,
     "metadata": {},
     "output_type": "execute_result"
    }
   ],
   "source": [
    "Attribute_Information_dict[12]"
   ]
  },
  {
   "cell_type": "code",
   "execution_count": 42,
   "metadata": {},
   "outputs": [
    {
     "data": {
      "text/plain": [
       "3.0    128\n",
       "4.0     73\n",
       "1.0     39\n",
       "0.0     34\n",
       "2.0     16\n",
       "Name: 12, dtype: int64"
      ]
     },
     "execution_count": 42,
     "metadata": {},
     "output_type": "execute_result"
    }
   ],
   "source": [
    "df_small[12].value_counts()"
   ]
  },
  {
   "cell_type": "code",
   "execution_count": 43,
   "metadata": {},
   "outputs": [
    {
     "name": "stdout",
     "output_type": "stream",
     "text": [
      "Работа кишечника замедлена или отсутствует: 69.0 %\n"
     ]
    }
   ],
   "source": [
    "# Видим отношение замедленной работы кишечника (плюс отсутствие активности вообще) ко всем\n",
    "print('Работа кишечника замедлена или отсутствует:', round(len(df_small.loc[df_small[12].isin([3, 4])]) / len(df_small), 2) * 100,'%')"
   ]
  },
  {
   "cell_type": "markdown",
   "metadata": {},
   "source": [
    "Пропуски не заполняем. Лучше вообще не иметь данных об этом атрибуте в каком-то конкретном случае, чем искажать статистику в целом."
   ]
  },
  {
   "cell_type": "markdown",
   "metadata": {},
   "source": [
    "### 6. 13 - abdominal distension"
   ]
  },
  {
   "cell_type": "code",
   "execution_count": 44,
   "metadata": {},
   "outputs": [
    {
     "data": {
      "text/plain": [
       "['abdominal distension',\n",
       " '- An IMPORTANT parameter.',\n",
       " '- possible values',\n",
       " '1 = none',\n",
       " '2 = slight',\n",
       " '3 = moderate',\n",
       " '4 = severe',\n",
       " '- an animal with abdominal distension is likely to be painful and',\n",
       " 'have reduced gut motility.',\n",
       " '- a horse with severe abdominal distension is likely to require',\n",
       " 'surgery just to relieve the pressure']"
      ]
     },
     "execution_count": 44,
     "metadata": {},
     "output_type": "execute_result"
    }
   ],
   "source": [
    "Attribute_Information_dict[13]"
   ]
  },
  {
   "cell_type": "code",
   "execution_count": 45,
   "metadata": {},
   "outputs": [
    {
     "data": {
      "text/plain": [
       "1.0    76\n",
       "3.0    65\n",
       "2.0    65\n",
       "0.0    46\n",
       "4.0    38\n",
       "Name: 13, dtype: int64"
      ]
     },
     "execution_count": 45,
     "metadata": {},
     "output_type": "execute_result"
    }
   ],
   "source": [
    "df_small[13].value_counts()"
   ]
  },
  {
   "cell_type": "code",
   "execution_count": 46,
   "metadata": {},
   "outputs": [
    {
     "data": {
      "text/plain": [
       "1.0    77\n",
       "2.0    26\n",
       "Name: 1, dtype: int64"
      ]
     },
     "execution_count": 46,
     "metadata": {},
     "output_type": "execute_result"
    }
   ],
   "source": [
    "df_small.loc[df_small[13].isin([3,4])][1].value_counts()"
   ]
  },
  {
   "cell_type": "markdown",
   "metadata": {},
   "source": [
    "Тут можем увидеть, что тем, кто со вздутием чаще делают операцию (>70%) и 60% погибают. Эта информация может быть полезной для спасения поступающих животных в будущем."
   ]
  },
  {
   "cell_type": "markdown",
   "metadata": {},
   "source": [
    "### 4. 18 - abdomen"
   ]
  },
  {
   "cell_type": "code",
   "execution_count": 47,
   "metadata": {
    "scrolled": true
   },
   "outputs": [
    {
     "data": {
      "text/plain": [
       "['abdomen',\n",
       " '- possible values',\n",
       " '1 = normal',\n",
       " '2 = other',\n",
       " '3 = firm feces in the large intestine',\n",
       " '4 = distended small intestine',\n",
       " '5 = distended large intestine',\n",
       " '- 3 is probably an obstruction caused by a mechanical impaction and is normally treated medically',\n",
       " '- 4 and 5 indicate a surgical lesion']"
      ]
     },
     "execution_count": 47,
     "metadata": {},
     "output_type": "execute_result"
    }
   ],
   "source": [
    "Attribute_Information_dict[18]"
   ]
  },
  {
   "cell_type": "code",
   "execution_count": 48,
   "metadata": {
    "scrolled": true
   },
   "outputs": [
    {
     "data": {
      "text/plain": [
       "0.0    109\n",
       "5.0     78\n",
       "4.0     43\n",
       "1.0     28\n",
       "2.0     19\n",
       "3.0     13\n",
       "Name: 18, dtype: int64"
      ]
     },
     "execution_count": 48,
     "metadata": {},
     "output_type": "execute_result"
    }
   ],
   "source": [
    "df_small[18].value_counts()"
   ]
  },
  {
   "cell_type": "markdown",
   "metadata": {},
   "source": [
    "Виден большой процент с хирургическим повреждением (4, 5): 41%."
   ]
  },
  {
   "cell_type": "markdown",
   "metadata": {},
   "source": [
    "И ещё много пропусков - просто игнорируем их."
   ]
  },
  {
   "cell_type": "markdown",
   "metadata": {},
   "source": [
    "### 7. 23 - Исход"
   ]
  },
  {
   "cell_type": "code",
   "execution_count": 49,
   "metadata": {},
   "outputs": [
    {
     "data": {
      "text/plain": [
       "['outcome',\n",
       " '- what eventually happened to the horse?',\n",
       " '- possible values:',\n",
       " '1 = lived',\n",
       " '2 = died',\n",
       " '3 = was euthanized']"
      ]
     },
     "execution_count": 49,
     "metadata": {},
     "output_type": "execute_result"
    }
   ],
   "source": [
    "Attribute_Information_dict[23]"
   ]
  },
  {
   "cell_type": "code",
   "execution_count": 50,
   "metadata": {},
   "outputs": [
    {
     "data": {
      "text/plain": [
       "1.0    171\n",
       "2.0     74\n",
       "3.0     44\n",
       "0.0      1\n",
       "Name: 23, dtype: int64"
      ]
     },
     "execution_count": 50,
     "metadata": {},
     "output_type": "execute_result"
    }
   ],
   "source": [
    "df_small[23].value_counts()"
   ]
  },
  {
   "cell_type": "markdown",
   "metadata": {},
   "source": [
    "### 8. 24 - surgical lesion?"
   ]
  },
  {
   "cell_type": "code",
   "execution_count": 51,
   "metadata": {
    "scrolled": true
   },
   "outputs": [
    {
     "data": {
      "text/plain": [
       "['surgical lesion?',\n",
       " '- retrospectively, was the problem (lesion) surgical?',\n",
       " '- all cases are either operated upon or autopsied so that',\n",
       " ' this value and the lesion type are always known',\n",
       " '- possible values:',\n",
       " '1 = Yes',\n",
       " '2 = No']"
      ]
     },
     "execution_count": 51,
     "metadata": {},
     "output_type": "execute_result"
    }
   ],
   "source": [
    "Attribute_Information_dict[24]"
   ]
  },
  {
   "cell_type": "code",
   "execution_count": 52,
   "metadata": {},
   "outputs": [
    {
     "data": {
      "text/plain": [
       "1.0    184\n",
       "2.0    106\n",
       "Name: 24, dtype: int64"
      ]
     },
     "execution_count": 52,
     "metadata": {},
     "output_type": "execute_result"
    }
   ],
   "source": [
    "df_small[24].value_counts()"
   ]
  }
 ],
 "metadata": {
  "kernelspec": {
   "display_name": "Python 3",
   "language": "python",
   "name": "python3"
  },
  "language_info": {
   "codemirror_mode": {
    "name": "ipython",
    "version": 3
   },
   "file_extension": ".py",
   "mimetype": "text/x-python",
   "name": "python",
   "nbconvert_exporter": "python",
   "pygments_lexer": "ipython3",
   "version": "3.8.5"
  }
 },
 "nbformat": 4,
 "nbformat_minor": 4
}
