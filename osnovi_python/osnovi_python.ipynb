{
 "cells": [
  {
   "cell_type": "markdown",
   "metadata": {},
    "Задание 1."
   ]
  },
  {
   "cell_type": "code",
   "execution_count": 2,
   "metadata": {
    "scrolled": true
   },
   "outputs": [
    {
     "name": "stdout",
     "output_type": "stream",
     "text": [
      "Предложение 1: wef\n",
      "Предложение 2: wqeer\n",
      "Предложение 2 больше\n",
      "Конец программы\n"
     ]
    }
   ],
   "source": [
    "phrase_1 = input('Предложение 1: ')\n",
    "phrase_2 = input('Предложение 2: ')\n",
    "if len(phrase_1) > len(phrase_2): \n",
    "    print('Предложение 1 больше')\n",
    "elif len(phrase_1) < len(phrase_2):\n",
    "    print('Предложение 2 больше')\n",
    "else:\n",
    "    print('Предложения равны')\n",
    "print('Конец программы') "
   ]
  },
  {
   "cell_type": "markdown",
   "metadata": {},
   "source": [
    "Задание 2."
   ]
  },
  {
   "cell_type": "code",
   "execution_count": 24,
   "metadata": {
    "scrolled": true
   },
   "outputs": [
    {
     "name": "stdout",
     "output_type": "stream",
     "text": [
      "Введите год: 1700\n",
      "Обычный\n",
      "Конец программы\n"
     ]
    }
   ],
   "source": [
    "year = int(input('Введите год: '))\n",
    "if (year % 4 == 0 and year % 100 != 0) or (year % 4 == 0 and year % 100 == 0 and year % 400 ==0):\n",
    "    print('Високосный')\n",
    "else:\n",
    "    print('Обычный')   \n",
    "print('Конец программы') "
   ]
  },
  {
   "cell_type": "markdown",
   "metadata": {},
   "source": [
    "Задание 3."
   ]
  },
  {
   "cell_type": "code",
   "execution_count": 29,
   "metadata": {},
   "outputs": [
    {
     "name": "stdout",
     "output_type": "stream",
     "text": [
      "Введите день рождения: 24\n",
      "Введите месяц рождения: Март\n",
      "Знак зодиака: Овен\n",
      "Конец программы\n"
     ]
    }
   ],
   "source": [
    "day = int(input('Введите день рождения: '))\n",
    "month = input('Введите месяц рождения: ')\n",
    "if (day > 20 and day < 32 and month == 'март') or (day > 0 and day < 21 and month == 'апрель'): \n",
    "    print('Знак зодиака: Овен')\n",
    "elif (day > 20 and day < 32 and month == 'апрель') or (day > 0 and day < 22 and month == 'май'): \n",
    "    print('Знак зодиака: Телец')\n",
    "elif (day > 21 and day < 32 and month == 'май') or (day > 0 and day < 22 and month == 'июнь'): \n",
    "    print('Знак зодиака: Близнецы')\n",
    "elif (day > 21 and day < 32 and month == 'июнь') or (day > 0 and day < 23 and month == 'июль'): \n",
    "    print('Знак зодиака: Рак')\n",
    "elif (day > 22 and day < 32 and month == 'июль') or (day > 0 and day < 22 and month == 'август'): \n",
    "    print('Знак зодиака: Лев')\n",
    "elif (day > 21 and day < 32 and month == 'август') or (day > 0 and day < 24 and month == 'сентябрь'): \n",
    "    print('Знак зодиака: Дева')\n",
    "elif (day > 23 and day < 32 and month == 'сентябрь') or (day > 0 and day < 24 and month == 'октябрь'): \n",
    "    print('Знак зодиака: Весы')\n",
    "elif (day > 23 and day < 32 and month == 'октябрь') or (day > 0 and day < 23 and month == 'ноябрь'): \n",
    "    print('Знак зодиака: Скорпион')\n",
    "elif (day > 22 and day < 32 and month == 'ноябрь') or (day > 0 and day < 23 and month == 'декабрь'): \n",
    "    print('Знак зодиака: Стрелец')\n",
    "elif (day > 22 and day < 32 and month == 'декабрь') or (day > 0 and day < 21 and month == 'январь'): \n",
    "    print('Знак зодиака: Козерог')\n",
    "elif (day > 20 and day < 32 and month == 'январь') or (day > 0 and day < 20 and month == 'февраль'): \n",
    "    print('Знак зодиака: Водолей')\n",
    "elif (day > 19 and day < 32 and month == 'февраль') or (day > 0 and day < 21 and month == 'март'): \n",
    "    print('Знак зодиака: Рыбы')\n",
    "else:\n",
    "    print('Некорректные данные')   \n",
    "print('Конец программы') "
   ]
  },
  {
   "cell_type": "markdown",
   "metadata": {},
   "source": [
    "Задание 4."
   ]
  },
  {
   "cell_type": "code",
   "execution_count": 18,
   "metadata": {},
   "outputs": [
    {
     "name": "stdout",
     "output_type": "stream",
     "text": [
      "Введите длину: 130\n",
      "Введите ширину: 123\n",
      "Введите высоту: 12\n",
      "Стандартная коробка №3\n",
      "Конец программы\n"
     ]
    }
   ],
   "source": [
    "length = int(input('Введите длину: '))\n",
    "width = int(input('Введите ширину: '))\n",
    "heigth = int(input('Введите высоту: '))\n",
    "if length < 15 and width < 15 and heigth < 15:\n",
    "    print ('Коробка №1')\n",
    "elif 15 < length < 50 or 15 < width < 50 or 15 < heigth < 50:\n",
    "    print ('Коробка №2')\n",
    "elif length > 200 or width > 200 or heigth > 200:\n",
    "    print ('Упаковка для лыж')\n",
    "else:\n",
    "    print('Стандартная коробка №3')   \n",
    "print('Конец программы') "
   ]
  },
  {
   "cell_type": "markdown",
   "metadata": {},
   "source": [
    "Задание 5."
   ]
  },
  {
   "cell_type": "code",
   "execution_count": 32,
   "metadata": {},
   "outputs": [
    {
     "name": "stdout",
     "output_type": "stream",
     "text": [
      "Введите номер билета: 234234\n",
      "Счастливый\n",
      "Конец программы\n"
     ]
    }
   ],
   "source": [
    "ticket = str(input('Введите номер билета: '))\n",
    "sum1 = int(ticket[0]) + int(ticket[1]) + int(ticket[2])\n",
    "sum2 = int(ticket[3]) + int(ticket[4]) + int(ticket[5])\n",
    "if sum1 == sum2:\n",
    "  print('Счастливый')\n",
    "else:\n",
    "  print('Обычный')\n",
    "print('Конец программы')"
   ]
  },
  {
   "cell_type": "markdown",
   "metadata": {},
   "source": [
    "Задание 6."
   ]
  },
  {
   "cell_type": "code",
   "execution_count": 49,
   "metadata": {},
   "outputs": [
    {
     "name": "stdout",
     "output_type": "stream",
     "text": [
      "прямоугольник\n",
      "Введите длину стороны a: 3\n",
      "Введите длину стороны b: 4\n",
      "Площадь прямоугольника равна:  12\n"
     ]
    }
   ],
   "source": [
    "figure = input()\n",
    "if figure == 'круг':\n",
    "    r = int(input('Введите радиус круга: '))\n",
    "    space = r*r*3.14\n",
    "    print('Площадь круга равна: ',space)\n",
    "elif figure == 'треугольник':\n",
    "    a = int(input('Введите длину стороны a: '))\n",
    "    b = int(input('Введите длину стороны b: '))\n",
    "    c = int(input('Введите длину стороны c: '))\n",
    "    p = (a+b+c)/2\n",
    "    space = (p*(p-a)*(p-b)*(p-c))**(1/2)\n",
    "    print('Площадь треугольника равна: ',space)\n",
    "elif figure == 'прямоугольник':\n",
    "    a = int(input('Введите длину стороны a: '))\n",
    "    b = int(input('Введите длину стороны b: '))\n",
    "    space = a*b\n",
    "    print('Площадь прямоугольника равна: ',space)\n",
    "else: print('Другая фигура')\n",
    "    "
   ]
  }
 ],
 "metadata": {
  "kernelspec": {
   "display_name": "Python 3",
   "language": "python",
   "name": "python3"
  },
  "language_info": {
   "codemirror_mode": {
    "name": "ipython",
    "version": 3
   },
   "file_extension": ".py",
   "mimetype": "text/x-python",
   "name": "python",
   "nbconvert_exporter": "python",
   "pygments_lexer": "ipython3",
   "version": "3.8.5"
  }
 },
 "nbformat": 4,
 "nbformat_minor": 4
}
